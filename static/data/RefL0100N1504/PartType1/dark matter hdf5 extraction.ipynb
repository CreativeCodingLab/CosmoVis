{
 "cells": [
  {
   "cell_type": "code",
   "execution_count": 2,
   "metadata": {},
   "outputs": [],
   "source": [
    "import yt\n",
    "import h5py\n",
    "import json\n",
    "import matplotlib.pyplot as plt\n",
    "import numpy as np\n",
    "import math"
   ]
  },
  {
   "cell_type": "code",
   "execution_count": 35,
   "metadata": {},
   "outputs": [
    {
     "name": "stdout",
     "output_type": "stream",
     "text": [
      "Keys: <KeysViewHDF5 ['grid']>\n"
     ]
    }
   ],
   "source": [
    "#The units are always log10(Msun/kpc^3)\n",
    "\n",
    "filename = 'grid_Eagle100_28_dm_mass_512.hdf5'\n",
    "with h5py.File(filename, \"r\") as f:\n",
    "    # List all groups\n",
    "    print(\"Keys: %s\" % f.keys())\n",
    "    a_group_key = list(f.keys())[0]\n",
    "\n",
    "    # Get the data\n",
    "    data = list(f[a_group_key])\n"
   ]
  },
  {
   "cell_type": "code",
   "execution_count": 36,
   "metadata": {},
   "outputs": [],
   "source": [
    "len(data[0])\n",
    "out = [None]*len(data)\n",
    "count = 0\n",
    "for item in data:\n",
    "    out[count] = item.tolist()\n",
    "    count+=1"
   ]
  },
  {
   "cell_type": "code",
   "execution_count": 37,
   "metadata": {},
   "outputs": [
    {
     "data": {
      "image/png": "[encoded data removed]",
      "text/plain": [
       "<Figure size 432x288 with 1 Axes>"
      ]
     },
     "metadata": {
      "needs_background": "light"
     },
     "output_type": "display_data"
    }
   ],
   "source": [
    "dm = np.array(out)\n",
    "tbins = np.linspace(-1,3.5,200)\n",
    "jk=plt.hist(dm.flatten(),bins=tbins)"
   ]
  },
  {
   "cell_type": "code",
   "execution_count": 38,
   "metadata": {},
   "outputs": [],
   "source": [
    "voxelized_data = out\n",
    "size = len(out)\n",
    "a = 1\n",
    "b = 255\n",
    "min_val = -1\n",
    "max_val = 3.5\n",
    "for i in range(size):\n",
    "    for j in range(size):\n",
    "        for k in range(size):\n",
    "            # if voxel > -Infinity\n",
    "            if (not math.isinf(voxelized_data[i][j][k])) and (int(voxelized_data[i][j][k]) is not 0):\n",
    "                # scale data between [a,b]\n",
    "                # multiply by 1000 to capture decimal precision into UInt8\n",
    "                # convert from float to int\n",
    "                out[i][j][k] = int( ( ( b - a ) * ( (voxelized_data[i][j][k] - min_val ) / ( max_val - min_val ) ) ) + a )\n",
    "                if float(out[i][j][k]) < 1.0:\n",
    "                    out[i][j][k] = int(0)\n",
    "            else: # reserve val=0 when voxel=-Infinity (artefact from taking log10(0))\n",
    "                out[i][j][k] = int(0)"
   ]
  },
  {
   "cell_type": "code",
   "execution_count": 39,
   "metadata": {},
   "outputs": [],
   "source": [
    "with open( str(len(data)) + '_PartType1_mass.json', 'w' ) as file:\n",
    "            json.dump( out, file, separators=(',', ':') )"
   ]
  },
  {
   "cell_type": "code",
   "execution_count": null,
   "metadata": {},
   "outputs": [],
   "source": []
  }
 ],
 "metadata": {
  "kernelspec": {
   "display_name": "Python 3",
   "language": "python",
   "name": "python3"
  },
  "language_info": {
   "codemirror_mode": {
    "name": "ipython",
    "version": 3
   },
   "file_extension": ".py",
   "mimetype": "text/x-python",
   "name": "python",
   "nbconvert_exporter": "python",
   "pygments_lexer": "ipython3",
   "version": "3.7.2"
  }
 },
 "nbformat": 4,
 "nbformat_minor": 4
}
