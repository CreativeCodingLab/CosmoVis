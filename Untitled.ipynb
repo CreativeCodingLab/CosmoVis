{
 "cells": [
  {
   "cell_type": "code",
   "execution_count": 1,
   "metadata": {},
   "outputs": [],
   "source": [
    "import boto3"
   ]
  },
  {
   "cell_type": "code",
   "execution_count": 21,
   "metadata": {},
   "outputs": [],
   "source": [
    "s3 = boto3.client('s3')"
   ]
  },
  {
   "cell_type": "code",
   "execution_count": 22,
   "metadata": {},
   "outputs": [
    {
     "ename": "AttributeError",
     "evalue": "'S3' object has no attribute 'Object'",
     "output_type": "error",
     "traceback": [
      "\u001b[0;31m---------------------------------------------------------------------------\u001b[0m",
      "\u001b[0;31mAttributeError\u001b[0m                            Traceback (most recent call last)",
      "\u001b[0;32m<ipython-input-22-0866097e1b11>\u001b[0m in \u001b[0;36m<module>\u001b[0;34m\u001b[0m\n\u001b[0;32m----> 1\u001b[0;31m \u001b[0mobj\u001b[0m \u001b[0;34m=\u001b[0m \u001b[0ms3\u001b[0m\u001b[0;34m.\u001b[0m\u001b[0mObject\u001b[0m\u001b[0;34m(\u001b[0m\u001b[0mbucket_name\u001b[0m\u001b[0;34m=\u001b[0m\u001b[0;34m'cosmovis-elasticbeanstalk-flask'\u001b[0m\u001b[0;34m,\u001b[0m \u001b[0mkey\u001b[0m\u001b[0;34m=\u001b[0m\u001b[0;34m'cosmovis/static/data/RefL0025N0376/snapshot_028_z000p000/snap_028_z000p000.0.hdf5'\u001b[0m\u001b[0;34m)\u001b[0m\u001b[0;34m\u001b[0m\u001b[0;34m\u001b[0m\u001b[0m\n\u001b[0m",
      "\u001b[0;32m~/anaconda3/lib/python3.7/site-packages/botocore/client.py\u001b[0m in \u001b[0;36m__getattr__\u001b[0;34m(self, item)\u001b[0m\n\u001b[1;32m    573\u001b[0m         raise AttributeError(\n\u001b[1;32m    574\u001b[0m             \"'%s' object has no attribute '%s'\" % (\n\u001b[0;32m--> 575\u001b[0;31m                 self.__class__.__name__, item)\n\u001b[0m\u001b[1;32m    576\u001b[0m         )\n\u001b[1;32m    577\u001b[0m \u001b[0;34m\u001b[0m\u001b[0m\n",
      "\u001b[0;31mAttributeError\u001b[0m: 'S3' object has no attribute 'Object'"
     ]
    }
   ],
   "source": [
    "obj = s3.Object(bucket_name='cosmovis-elasticbeanstalk-flask', key='cosmovis/static/data/RefL0025N0376/snapshot_028_z000p000/snap_028_z000p000.0.hdf5')"
   ]
  },
  {
   "cell_type": "code",
   "execution_count": 15,
   "metadata": {},
   "outputs": [],
   "source": [
    "import yt"
   ]
  },
  {
   "cell_type": "code",
   "execution_count": 20,
   "metadata": {},
   "outputs": [
    {
     "ename": "KeyboardInterrupt",
     "evalue": "",
     "output_type": "error",
     "traceback": [
      "\u001b[0;31m---------------------------------------------------------------------------\u001b[0m",
      "\u001b[0;31mKeyboardInterrupt\u001b[0m                         Traceback (most recent call last)",
      "\u001b[0;32m<ipython-input-20-3cfb1f823b6f>\u001b[0m in \u001b[0;36m<module>\u001b[0;34m\u001b[0m\n\u001b[1;32m      1\u001b[0m \u001b[0mresponse\u001b[0m \u001b[0;34m=\u001b[0m \u001b[0mobj\u001b[0m\u001b[0;34m.\u001b[0m\u001b[0mget\u001b[0m\u001b[0;34m(\u001b[0m\u001b[0;34m)\u001b[0m\u001b[0;34m\u001b[0m\u001b[0;34m\u001b[0m\u001b[0m\n\u001b[0;32m----> 2\u001b[0;31m \u001b[0mdata\u001b[0m \u001b[0;34m=\u001b[0m \u001b[0mresponse\u001b[0m\u001b[0;34m[\u001b[0m\u001b[0;34m'Body'\u001b[0m\u001b[0;34m]\u001b[0m\u001b[0;34m.\u001b[0m\u001b[0mread\u001b[0m\u001b[0;34m(\u001b[0m\u001b[0;34m)\u001b[0m\u001b[0;34m\u001b[0m\u001b[0;34m\u001b[0m\u001b[0m\n\u001b[0m",
      "\u001b[0;32m~/anaconda3/lib/python3.7/site-packages/botocore/response.py\u001b[0m in \u001b[0;36mread\u001b[0;34m(self, amt)\u001b[0m\n\u001b[1;32m     76\u001b[0m         \"\"\"\n\u001b[1;32m     77\u001b[0m         \u001b[0;32mtry\u001b[0m\u001b[0;34m:\u001b[0m\u001b[0;34m\u001b[0m\u001b[0;34m\u001b[0m\u001b[0m\n\u001b[0;32m---> 78\u001b[0;31m             \u001b[0mchunk\u001b[0m \u001b[0;34m=\u001b[0m \u001b[0mself\u001b[0m\u001b[0;34m.\u001b[0m\u001b[0m_raw_stream\u001b[0m\u001b[0;34m.\u001b[0m\u001b[0mread\u001b[0m\u001b[0;34m(\u001b[0m\u001b[0mamt\u001b[0m\u001b[0;34m)\u001b[0m\u001b[0;34m\u001b[0m\u001b[0;34m\u001b[0m\u001b[0m\n\u001b[0m\u001b[1;32m     79\u001b[0m         \u001b[0;32mexcept\u001b[0m \u001b[0mURLLib3ReadTimeoutError\u001b[0m \u001b[0;32mas\u001b[0m \u001b[0me\u001b[0m\u001b[0;34m:\u001b[0m\u001b[0;34m\u001b[0m\u001b[0;34m\u001b[0m\u001b[0m\n\u001b[1;32m     80\u001b[0m             \u001b[0;31m# TODO: the url will be None as urllib3 isn't setting it yet\u001b[0m\u001b[0;34m\u001b[0m\u001b[0;34m\u001b[0m\u001b[0;34m\u001b[0m\u001b[0m\n",
      "\u001b[0;32m~/.local/lib/python3.7/site-packages/urllib3/response.py\u001b[0m in \u001b[0;36mread\u001b[0;34m(self, amt, decode_content, cache_content)\u001b[0m\n\u001b[1;32m    438\u001b[0m             \u001b[0;32mif\u001b[0m \u001b[0mamt\u001b[0m \u001b[0;32mis\u001b[0m \u001b[0;32mNone\u001b[0m\u001b[0;34m:\u001b[0m\u001b[0;34m\u001b[0m\u001b[0;34m\u001b[0m\u001b[0m\n\u001b[1;32m    439\u001b[0m                 \u001b[0;31m# cStringIO doesn't like amt=None\u001b[0m\u001b[0;34m\u001b[0m\u001b[0;34m\u001b[0m\u001b[0;34m\u001b[0m\u001b[0m\n\u001b[0;32m--> 440\u001b[0;31m                 \u001b[0mdata\u001b[0m \u001b[0;34m=\u001b[0m \u001b[0mself\u001b[0m\u001b[0;34m.\u001b[0m\u001b[0m_fp\u001b[0m\u001b[0;34m.\u001b[0m\u001b[0mread\u001b[0m\u001b[0;34m(\u001b[0m\u001b[0;34m)\u001b[0m\u001b[0;34m\u001b[0m\u001b[0;34m\u001b[0m\u001b[0m\n\u001b[0m\u001b[1;32m    441\u001b[0m                 \u001b[0mflush_decoder\u001b[0m \u001b[0;34m=\u001b[0m \u001b[0;32mTrue\u001b[0m\u001b[0;34m\u001b[0m\u001b[0;34m\u001b[0m\u001b[0m\n\u001b[1;32m    442\u001b[0m             \u001b[0;32melse\u001b[0m\u001b[0;34m:\u001b[0m\u001b[0;34m\u001b[0m\u001b[0;34m\u001b[0m\u001b[0m\n",
      "\u001b[0;32m~/anaconda3/lib/python3.7/http/client.py\u001b[0m in \u001b[0;36mread\u001b[0;34m(self, amt)\u001b[0m\n\u001b[1;32m    458\u001b[0m             \u001b[0;32melse\u001b[0m\u001b[0;34m:\u001b[0m\u001b[0;34m\u001b[0m\u001b[0;34m\u001b[0m\u001b[0m\n\u001b[1;32m    459\u001b[0m                 \u001b[0;32mtry\u001b[0m\u001b[0;34m:\u001b[0m\u001b[0;34m\u001b[0m\u001b[0;34m\u001b[0m\u001b[0m\n\u001b[0;32m--> 460\u001b[0;31m                     \u001b[0ms\u001b[0m \u001b[0;34m=\u001b[0m \u001b[0mself\u001b[0m\u001b[0;34m.\u001b[0m\u001b[0m_safe_read\u001b[0m\u001b[0;34m(\u001b[0m\u001b[0mself\u001b[0m\u001b[0;34m.\u001b[0m\u001b[0mlength\u001b[0m\u001b[0;34m)\u001b[0m\u001b[0;34m\u001b[0m\u001b[0;34m\u001b[0m\u001b[0m\n\u001b[0m\u001b[1;32m    461\u001b[0m                 \u001b[0;32mexcept\u001b[0m \u001b[0mIncompleteRead\u001b[0m\u001b[0;34m:\u001b[0m\u001b[0;34m\u001b[0m\u001b[0;34m\u001b[0m\u001b[0m\n\u001b[1;32m    462\u001b[0m                     \u001b[0mself\u001b[0m\u001b[0;34m.\u001b[0m\u001b[0m_close_conn\u001b[0m\u001b[0;34m(\u001b[0m\u001b[0;34m)\u001b[0m\u001b[0;34m\u001b[0m\u001b[0;34m\u001b[0m\u001b[0m\n",
      "\u001b[0;32m~/anaconda3/lib/python3.7/http/client.py\u001b[0m in \u001b[0;36m_safe_read\u001b[0;34m(self, amt)\u001b[0m\n\u001b[1;32m    608\u001b[0m         \u001b[0ms\u001b[0m \u001b[0;34m=\u001b[0m \u001b[0;34m[\u001b[0m\u001b[0;34m]\u001b[0m\u001b[0;34m\u001b[0m\u001b[0;34m\u001b[0m\u001b[0m\n\u001b[1;32m    609\u001b[0m         \u001b[0;32mwhile\u001b[0m \u001b[0mamt\u001b[0m \u001b[0;34m>\u001b[0m \u001b[0;36m0\u001b[0m\u001b[0;34m:\u001b[0m\u001b[0;34m\u001b[0m\u001b[0;34m\u001b[0m\u001b[0m\n\u001b[0;32m--> 610\u001b[0;31m             \u001b[0mchunk\u001b[0m \u001b[0;34m=\u001b[0m \u001b[0mself\u001b[0m\u001b[0;34m.\u001b[0m\u001b[0mfp\u001b[0m\u001b[0;34m.\u001b[0m\u001b[0mread\u001b[0m\u001b[0;34m(\u001b[0m\u001b[0mmin\u001b[0m\u001b[0;34m(\u001b[0m\u001b[0mamt\u001b[0m\u001b[0;34m,\u001b[0m \u001b[0mMAXAMOUNT\u001b[0m\u001b[0;34m)\u001b[0m\u001b[0;34m)\u001b[0m\u001b[0;34m\u001b[0m\u001b[0;34m\u001b[0m\u001b[0m\n\u001b[0m\u001b[1;32m    611\u001b[0m             \u001b[0;32mif\u001b[0m \u001b[0;32mnot\u001b[0m \u001b[0mchunk\u001b[0m\u001b[0;34m:\u001b[0m\u001b[0;34m\u001b[0m\u001b[0;34m\u001b[0m\u001b[0m\n\u001b[1;32m    612\u001b[0m                 \u001b[0;32mraise\u001b[0m \u001b[0mIncompleteRead\u001b[0m\u001b[0;34m(\u001b[0m\u001b[0;34mb''\u001b[0m\u001b[0;34m.\u001b[0m\u001b[0mjoin\u001b[0m\u001b[0;34m(\u001b[0m\u001b[0ms\u001b[0m\u001b[0;34m)\u001b[0m\u001b[0;34m,\u001b[0m \u001b[0mamt\u001b[0m\u001b[0;34m)\u001b[0m\u001b[0;34m\u001b[0m\u001b[0;34m\u001b[0m\u001b[0m\n",
      "\u001b[0;32m~/anaconda3/lib/python3.7/socket.py\u001b[0m in \u001b[0;36mreadinto\u001b[0;34m(self, b)\u001b[0m\n\u001b[1;32m    587\u001b[0m         \u001b[0;32mwhile\u001b[0m \u001b[0;32mTrue\u001b[0m\u001b[0;34m:\u001b[0m\u001b[0;34m\u001b[0m\u001b[0;34m\u001b[0m\u001b[0m\n\u001b[1;32m    588\u001b[0m             \u001b[0;32mtry\u001b[0m\u001b[0;34m:\u001b[0m\u001b[0;34m\u001b[0m\u001b[0;34m\u001b[0m\u001b[0m\n\u001b[0;32m--> 589\u001b[0;31m                 \u001b[0;32mreturn\u001b[0m \u001b[0mself\u001b[0m\u001b[0;34m.\u001b[0m\u001b[0m_sock\u001b[0m\u001b[0;34m.\u001b[0m\u001b[0mrecv_into\u001b[0m\u001b[0;34m(\u001b[0m\u001b[0mb\u001b[0m\u001b[0;34m)\u001b[0m\u001b[0;34m\u001b[0m\u001b[0;34m\u001b[0m\u001b[0m\n\u001b[0m\u001b[1;32m    590\u001b[0m             \u001b[0;32mexcept\u001b[0m \u001b[0mtimeout\u001b[0m\u001b[0;34m:\u001b[0m\u001b[0;34m\u001b[0m\u001b[0;34m\u001b[0m\u001b[0m\n\u001b[1;32m    591\u001b[0m                 \u001b[0mself\u001b[0m\u001b[0;34m.\u001b[0m\u001b[0m_timeout_occurred\u001b[0m \u001b[0;34m=\u001b[0m \u001b[0;32mTrue\u001b[0m\u001b[0;34m\u001b[0m\u001b[0;34m\u001b[0m\u001b[0m\n",
      "\u001b[0;32m~/anaconda3/lib/python3.7/ssl.py\u001b[0m in \u001b[0;36mrecv_into\u001b[0;34m(self, buffer, nbytes, flags)\u001b[0m\n\u001b[1;32m   1050\u001b[0m                   \u001b[0;34m\"non-zero flags not allowed in calls to recv_into() on %s\"\u001b[0m \u001b[0;34m%\u001b[0m\u001b[0;34m\u001b[0m\u001b[0;34m\u001b[0m\u001b[0m\n\u001b[1;32m   1051\u001b[0m                   self.__class__)\n\u001b[0;32m-> 1052\u001b[0;31m             \u001b[0;32mreturn\u001b[0m \u001b[0mself\u001b[0m\u001b[0;34m.\u001b[0m\u001b[0mread\u001b[0m\u001b[0;34m(\u001b[0m\u001b[0mnbytes\u001b[0m\u001b[0;34m,\u001b[0m \u001b[0mbuffer\u001b[0m\u001b[0;34m)\u001b[0m\u001b[0;34m\u001b[0m\u001b[0;34m\u001b[0m\u001b[0m\n\u001b[0m\u001b[1;32m   1053\u001b[0m         \u001b[0;32melse\u001b[0m\u001b[0;34m:\u001b[0m\u001b[0;34m\u001b[0m\u001b[0;34m\u001b[0m\u001b[0m\n\u001b[1;32m   1054\u001b[0m             \u001b[0;32mreturn\u001b[0m \u001b[0msuper\u001b[0m\u001b[0;34m(\u001b[0m\u001b[0;34m)\u001b[0m\u001b[0;34m.\u001b[0m\u001b[0mrecv_into\u001b[0m\u001b[0;34m(\u001b[0m\u001b[0mbuffer\u001b[0m\u001b[0;34m,\u001b[0m \u001b[0mnbytes\u001b[0m\u001b[0;34m,\u001b[0m \u001b[0mflags\u001b[0m\u001b[0;34m)\u001b[0m\u001b[0;34m\u001b[0m\u001b[0;34m\u001b[0m\u001b[0m\n",
      "\u001b[0;32m~/anaconda3/lib/python3.7/ssl.py\u001b[0m in \u001b[0;36mread\u001b[0;34m(self, len, buffer)\u001b[0m\n\u001b[1;32m    909\u001b[0m         \u001b[0;32mtry\u001b[0m\u001b[0;34m:\u001b[0m\u001b[0;34m\u001b[0m\u001b[0;34m\u001b[0m\u001b[0m\n\u001b[1;32m    910\u001b[0m             \u001b[0;32mif\u001b[0m \u001b[0mbuffer\u001b[0m \u001b[0;32mis\u001b[0m \u001b[0;32mnot\u001b[0m \u001b[0;32mNone\u001b[0m\u001b[0;34m:\u001b[0m\u001b[0;34m\u001b[0m\u001b[0;34m\u001b[0m\u001b[0m\n\u001b[0;32m--> 911\u001b[0;31m                 \u001b[0;32mreturn\u001b[0m \u001b[0mself\u001b[0m\u001b[0;34m.\u001b[0m\u001b[0m_sslobj\u001b[0m\u001b[0;34m.\u001b[0m\u001b[0mread\u001b[0m\u001b[0;34m(\u001b[0m\u001b[0mlen\u001b[0m\u001b[0;34m,\u001b[0m \u001b[0mbuffer\u001b[0m\u001b[0;34m)\u001b[0m\u001b[0;34m\u001b[0m\u001b[0;34m\u001b[0m\u001b[0m\n\u001b[0m\u001b[1;32m    912\u001b[0m             \u001b[0;32melse\u001b[0m\u001b[0;34m:\u001b[0m\u001b[0;34m\u001b[0m\u001b[0;34m\u001b[0m\u001b[0m\n\u001b[1;32m    913\u001b[0m                 \u001b[0;32mreturn\u001b[0m \u001b[0mself\u001b[0m\u001b[0;34m.\u001b[0m\u001b[0m_sslobj\u001b[0m\u001b[0;34m.\u001b[0m\u001b[0mread\u001b[0m\u001b[0;34m(\u001b[0m\u001b[0mlen\u001b[0m\u001b[0;34m)\u001b[0m\u001b[0;34m\u001b[0m\u001b[0;34m\u001b[0m\u001b[0m\n",
      "\u001b[0;31mKeyboardInterrupt\u001b[0m: "
     ]
    }
   ],
   "source": [
    "response = obj.get()\n",
    "data = response['Body'].read()"
   ]
  },
  {
   "cell_type": "code",
   "execution_count": null,
   "metadata": {},
   "outputs": [],
   "source": [
    "ds = yt.load(obj)"
   ]
  },
  {
   "cell_type": "code",
   "execution_count": 8,
   "metadata": {},
   "outputs": [
    {
     "name": "stdout",
     "output_type": "stream",
     "text": [
      "{'ResponseMetadata': {'RequestId': '6E1AC642EA80DAB2', 'HostId': 'o/Q0HGGmsIP9P+QB6i/+nRcgTTp6pi8RpJ9EI6Qf/aoV4Es2f6nIvK29s4PECBim0JTPCpo71jA=', 'HTTPStatusCode': 200, 'HTTPHeaders': {'x-amz-id-2': 'o/Q0HGGmsIP9P+QB6i/+nRcgTTp6pi8RpJ9EI6Qf/aoV4Es2f6nIvK29s4PECBim0JTPCpo71jA=', 'x-amz-request-id': '6E1AC642EA80DAB2', 'date': 'Thu, 09 Jul 2020 19:33:08 GMT', 'last-modified': 'Wed, 08 Jul 2020 22:31:06 GMT', 'etag': '\"5e1736d9ef2f3cd6743b8a5622f35eb9\"', 'accept-ranges': 'bytes', 'content-type': 'image/svg+xml', 'content-length': '4931', 'server': 'AmazonS3'}, 'RetryAttempts': 1}, 'AcceptRanges': 'bytes', 'LastModified': datetime.datetime(2020, 7, 8, 22, 31, 6, tzinfo=tzutc()), 'ContentLength': 4931, 'ETag': '\"5e1736d9ef2f3cd6743b8a5622f35eb9\"', 'ContentType': 'image/svg+xml', 'Metadata': {}, 'Body': <botocore.response.StreamingBody object at 0x10c504908>}\n"
     ]
    }
   ],
   "source": [
    "print(response)"
   ]
  },
  {
   "cell_type": "code",
   "execution_count": 9,
   "metadata": {},
   "outputs": [],
   "source": [
    "data = response['Body'].read()"
   ]
  },
  {
   "cell_type": "code",
   "execution_count": 11,
   "metadata": {},
   "outputs": [
    {
     "data": {
      "text/plain": [
       "b'<?xml version=\"1.0\" encoding=\"iso-8859-1\"?>\\r\\n<!-- Generator: Adobe Illustrator 19.0.0, SVG Export Plug-In . SVG Version: 6.00 Build 0)  -->\\r\\n<svg version=\"1.1\" id=\"Capa_1\" xmlns=\"http://www.w3.org/2000/svg\" xmlns:xlink=\"http://www.w3.org/1999/xlink\" x=\"0px\" y=\"0px\"\\r\\n\\t viewBox=\"0 0 512 512\" style=\"enable-background:new 0 0 512 512;\" xml:space=\"preserve\">\\r\\n<g>\\r\\n\\t<g>\\r\\n\\t\\t<path d=\"M508.945,150.429c-0.029-0.193-0.066-0.385-0.11-0.576c-2.866-15.263-7.624-29.864-14.02-43.555\\r\\n\\t\\t\\tc-0.176-0.522-0.411-1.026-0.704-1.506c-5.95-12.439-13.257-24.11-21.73-34.818c-0.314-0.527-0.687-1.027-1.141-1.481\\r\\n\\t\\t\\tc-0.061-0.061-0.128-0.113-0.191-0.172c-8.323-10.275-17.73-19.637-28.045-27.913c-0.058-0.062-0.11-0.127-0.17-0.188\\r\\n\\t\\t\\tc-0.466-0.465-0.981-0.849-1.524-1.166c-10.751-8.42-22.464-15.665-34.938-21.554c-0.475-0.291-0.975-0.522-1.491-0.697\\r\\n\\t\\t\\tc-13.77-6.35-28.45-11.053-43.791-13.839c-0.191-0.043-0.383-0.079-0.576-0.107C350.002,0.98,339.184,0,328.141,0\\r\\n\\t\\t\\tc-8.493,0-16.848,0.592-25.037,1.711c-0.026,0.002-0.052,0.008-0.079,0.011C225.371,12.378,163.02,71.701,147.834,147.839\\r\\n\\t\\t\\tc-19.932,3.971-39.127,11.218-56.726,21.52c-3.582,2.097-4.785,6.7-2.689,10.282c2.097,3.582,6.701,4.785,10.281,2.689\\r\\n\\t\\t\\tc14.561-8.524,30.317-14.768,46.687-18.586c-0.722,6.608-1.105,13.317-1.105,20.115c0,11.033,0.979,21.842,2.851,32.344\\r\\n\\t\\t\\tc0.03,0.206,0.067,0.411,0.114,0.614c2.786,15.336,7.488,30.011,13.836,43.776c0.175,0.518,0.408,1.019,0.699,1.496\\r\\n\\t\\t\\tc5.89,12.473,13.133,24.185,21.553,34.936c0.318,0.543,0.701,1.058,1.167,1.524c0.059,0.06,0.124,0.11,0.185,0.167\\r\\n\\t\\t\\tc8.277,10.316,17.639,19.724,27.916,28.049c0.059,0.063,0.111,0.129,0.172,0.19c0.453,0.453,0.953,0.827,1.479,1.14\\r\\n\\t\\t\\tc10.709,8.474,22.38,15.781,34.819,21.731c0.48,0.294,0.985,0.528,1.506,0.704c13.693,6.398,28.296,11.156,43.562,14.022\\r\\n\\t\\t\\tc0.187,0.043,0.375,0.079,0.564,0.108c10.846,2.001,22.02,3.056,33.436,3.056c6.8,0,13.511-0.383,20.121-1.106\\r\\n\\t\\t\\tc-17.457,74.618-84.542,130.358-164.404,130.358c-93.093,0-168.83-75.737-168.83-168.83c0-46.942,18.806-90.548,52.953-122.787\\r\\n\\t\\t\\tc3.018-2.849,3.154-7.605,0.306-10.623c-2.85-3.018-7.606-3.154-10.623-0.306c-18.017,17.01-32.197,37.085-42.144,59.668\\r\\n\\t\\t\\tC5.223,277.477,0,302.39,0,328.141C0,429.522,82.48,512,183.86,512c89.054,0,163.513-63.644,180.306-147.835\\r\\n\\t\\t\\tc76.583-15.276,136.161-78.266,146.303-156.554c0.005-0.046,0.015-0.091,0.019-0.136c0.996-7.734,1.512-15.616,1.512-23.616\\r\\n\\t\\t\\tC512,172.445,510.945,161.273,508.945,150.429z M465.101,85.258c5.016,6.949,9.524,14.288,13.453,21.97L345.392,240.39\\r\\n\\t\\t\\tc-4.11-7.535-8.735-14.749-13.821-21.602L465.101,85.258z M455.713,73.389L322.072,207.03\\r\\n\\t\\t\\tc-5.512-6.283-11.439-12.193-17.749-17.675L437.951,55.728C444.295,61.172,450.236,67.074,455.713,73.389z M426.037,46.385\\r\\n\\t\\t\\tl-133.53,133.531c-6.883-5.059-14.127-9.655-21.69-13.733L403.958,33.041C411.674,36.935,419.054,41.398,426.037,46.385z\\r\\n\\t\\t\\t M361.898,18.422c9.428,1.922,18.572,4.635,27.362,8.061L256.492,159.25c-8.478-3.66-17.28-6.705-26.356-9.067L361.898,18.422z\\r\\n\\t\\t\\t M307.329,16.313c6.822-0.843,13.767-1.284,20.813-1.284c5.124,0,10.192,0.242,15.202,0.691L212.541,146.523\\r\\n\\t\\t\\tc-9.348-1.47-18.926-2.241-28.681-2.241c-1.527,0-3.052,0.038-4.576,0.076L307.329,16.313z M280.5,21.885L166.167,136.219\\r\\n\\t\\t\\tC182.328,81.367,225.649,38.045,280.5,21.885z M160.004,199.062c-0.45-5.011-0.692-10.079-0.692-15.203\\r\\n\\t\\t\\tc0-7.046,0.441-13.991,1.284-20.813l2.431-2.431c6.889-0.854,13.845-1.304,20.834-1.304c5.124,0,10.192,0.242,15.202,0.691\\r\\n\\t\\t\\tL160.004,199.062z M162.704,217.615l54.911-54.911c9.429,1.921,18.572,4.634,27.362,8.061l-74.213,74.214\\r\\n\\t\\t\\tC167.339,236.188,164.625,227.044,162.704,217.615z M190.668,281.755c-4.988-6.984-9.451-14.364-13.345-22.079l82.354-82.354\\r\\n\\t\\t\\tc7.715,3.895,15.095,8.357,22.079,13.345L190.668,281.755z M200.01,293.669l93.659-93.659\\r\\n\\t\\t\\tc6.344,5.445,12.285,11.346,17.762,17.661l-93.759,93.759C211.356,305.954,205.455,300.013,200.01,293.669z M229.54,320.818\\r\\n\\t\\t\\tl91.279-91.278c5.017,6.949,9.524,14.287,13.453,21.969l-82.764,82.764C243.827,330.342,236.488,325.834,229.54,320.818z\\r\\n\\t\\t\\t M293.378,349.082c-9.387-1.972-18.491-4.721-27.237-8.187l74.755-74.754c3.465,8.746,6.214,17.85,8.187,27.237L293.378,349.082z\\r\\n\\t\\t\\t M351.564,347.575l-3.988,3.988c-6.379,0.735-12.862,1.126-19.435,1.126c-5.506,0-10.949-0.274-16.322-0.792l40.078-40.078\\r\\n\\t\\t\\tc0.518,5.372,0.792,10.815,0.792,16.322C352.689,334.714,352.299,341.196,351.564,347.575z M361.557,280.904\\r\\n\\t\\t\\tc-2.406-9.04-5.485-17.806-9.179-26.244l132.8-132.799c3.465,8.746,6.214,17.85,8.186,27.236L361.557,280.904z M374.054,346.342\\r\\n\\t\\t\\tl116.571-116.572C474.709,286.021,430.303,330.426,374.054,346.342z M495.846,203.293L367.677,331.462\\r\\n\\t\\t\\tc0.02-1.106,0.042-2.211,0.042-3.322c0-10.12-0.835-20.047-2.416-29.727L496.18,167.537c0.518,5.372,0.792,10.815,0.792,16.322\\r\\n\\t\\t\\tC496.971,190.432,496.58,196.915,495.846,203.293z\"/>\\r\\n\\t</g>\\r\\n</g>\\r\\n<g>\\r\\n</g>\\r\\n<g>\\r\\n</g>\\r\\n<g>\\r\\n</g>\\r\\n<g>\\r\\n</g>\\r\\n<g>\\r\\n</g>\\r\\n<g>\\r\\n</g>\\r\\n<g>\\r\\n</g>\\r\\n<g>\\r\\n</g>\\r\\n<g>\\r\\n</g>\\r\\n<g>\\r\\n</g>\\r\\n<g>\\r\\n</g>\\r\\n<g>\\r\\n</g>\\r\\n<g>\\r\\n</g>\\r\\n<g>\\r\\n</g>\\r\\n<g>\\r\\n</g>\\r\\n</svg>\\r\\n'"
      ]
     },
     "execution_count": 11,
     "metadata": {},
     "output_type": "execute_result"
    }
   ],
   "source": [
    "data"
   ]
  },
  {
   "cell_type": "code",
   "execution_count": null,
   "metadata": {},
   "outputs": [],
   "source": []
  }
 ],
 "metadata": {
  "kernelspec": {
   "display_name": "Python 3",
   "language": "python",
   "name": "python3"
  },
  "language_info": {
   "codemirror_mode": {
    "name": "ipython",
    "version": 3
   },
   "file_extension": ".py",
   "mimetype": "text/x-python",
   "name": "python",
   "nbconvert_exporter": "python",
   "pygments_lexer": "ipython3",
   "version": "3.7.3"
  }
 },
 "nbformat": 4,
 "nbformat_minor": 4
}
