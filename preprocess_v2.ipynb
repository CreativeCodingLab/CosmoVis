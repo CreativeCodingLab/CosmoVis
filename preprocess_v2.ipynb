{
 "cells": [
  {
   "cell_type": "markdown",
   "metadata": {},
   "source": [
    "# CosmoVis Data Preprocessing"
   ]
  },
  {
   "cell_type": "code",
   "execution_count": 1,
   "metadata": {},
   "outputs": [],
   "source": [
    "# preprocess.py is included in the `CosmoVis/` directory and includes scripts for exporting data products for visualization\n",
    "import preprocess\n",
    "from matplotlib import pyplot as plt\n",
    "%matplotlib inline\n",
    "import numpy as np"
   ]
  },
  {
   "cell_type": "code",
   "execution_count": 2,
   "metadata": {},
   "outputs": [],
   "source": [
    "# assign details for features to export from the desired simulation\n",
    "\n",
    "# path to the simulation\n",
    "# 12 Mpc EAGLE\n",
    "# sim_path = r'C:\\Users\\david\\Desktop\\git\\CosmoVis\\static\\data\\RefL0012N0188\\snapshot_028_z000p000\\snap_028_z000p000.0.hdf5'\n",
    "\n",
    "# 25 Mpc EAGLE\n",
    "# sim_path = r'C:\\Users\\david\\Desktop\\git\\CosmoVis\\static\\data\\RefL0025N0376\\snapshot_028_z000p000\\snap_028_z000p000.0.hdf5'\n",
    "\n",
    "# 100 Mpc EAGLE\n",
    "# sim_path = r'C:\\Users\\joeBurchett\\Documents\\CosmoVis\\CosmoVis\\static\\data\\RefL0100N1504\\snapshot_028_z000p000\\snap_028_z000p000.0.hdf5'\n",
    "# sim_type = 'EAGLE'\n",
    "\n",
    "\n",
    "#100 Mpc TNG z=2.3\n",
    "sim_path = r'D:\\TNG100_z2p3\\snap_030.0.hdf5'\n",
    "sim_type = 'TNG'\n",
    "\n",
    "# list of voxel grid resolutions to export (creates cubes based on specified edge length)\n",
    "resolution_list = [64,128,256,512]\n",
    "# fields that will be exported for visualization\n",
    "# field_list = []\n",
    "field_list = [('PartType0','GFM_Metallicity')]\n",
    "# field_list = [('PartType0','Temperature'),('PartType0','Carbon'),('PartType0','Density'),('PartType0','Entropy'),('PartType0','Metallicity'),('PartType0','Oxygen'),('PartType0', 'H_number_density'),('deposit', 'PartType1_density')]\n",
    "# field_list = [('PartType0','temperature'),('PartType0','Density'),('PartType0','GFM_Metallicity'),('PartType0','Masses'),('PartType0','H_p1_number_density')]\n",
    "# percent of star particles to export (takes a random sampling)\n",
    "star_percent = 0.2 # set to zero because it has already been exported"
   ]
  },
  {
   "cell_type": "code",
   "execution_count": 2,
   "metadata": {
    "scrolled": true
   },
   "outputs": [
    {
     "ename": "NameError",
     "evalue": "name 'sim_path' is not defined",
     "output_type": "error",
     "traceback": [
      "\u001b[1;31m---------------------------------------------------------------------------\u001b[0m",
      "\u001b[1;31mNameError\u001b[0m                                 Traceback (most recent call last)",
      "\u001b[1;32m<ipython-input-2-74bdb1a95edd>\u001b[0m in \u001b[0;36m<module>\u001b[1;34m\u001b[0m\n\u001b[1;32m----> 1\u001b[1;33m \u001b[0mtng_gridlist\u001b[0m \u001b[1;33m=\u001b[0m \u001b[0mpreprocess\u001b[0m\u001b[1;33m.\u001b[0m\u001b[0mextractFeatures\u001b[0m\u001b[1;33m(\u001b[0m\u001b[0msim_path\u001b[0m\u001b[1;33m,\u001b[0m\u001b[0msim_type\u001b[0m\u001b[1;33m,\u001b[0m\u001b[0mresolution_list\u001b[0m\u001b[1;33m,\u001b[0m\u001b[0mfield_list\u001b[0m\u001b[1;33m,\u001b[0m\u001b[0mstar_percent\u001b[0m\u001b[1;33m)\u001b[0m\u001b[1;33m\u001b[0m\u001b[1;33m\u001b[0m\u001b[0m\n\u001b[0m",
      "\u001b[1;31mNameError\u001b[0m: name 'sim_path' is not defined"
     ]
    }
   ],
   "source": [
    "tng_gridlist = preprocess.extractFeatures(sim_path,sim_type,resolution_list,field_list,star_percent)"
   ]
  },
  {
   "cell_type": "code",
   "execution_count": 11,
   "metadata": {},
   "outputs": [],
   "source": [
    "# assign details for features to export from the desired simulation\n",
    "\n",
    "# path to the simulation\n",
    "# 12 Mpc EAGLE\n",
    "# sim_path = r'C:\\Users\\joeBurchett\\Documents\\CosmoVis\\CosmoVis\\static\\data\\RefL0012N0188\\snapshot_028_z000p000\\snap_028_z000p000.0.hdf5'\n",
    "# sim_type = 'EAGLE'\n",
    "\n",
    "# 25 Mpc EAGLE\n",
    "sim_path = r'C:\\Users\\joeBurchett\\Documents\\CosmoVis\\CosmoVis\\static\\data\\RefL0025N0376\\snapshot_028_z000p000\\snap_028_z000p000.0.hdf5'\n",
    "sim_type = 'EAGLE'\n",
    "\n",
    "#100 Mpc EAGLE\n",
    "# sim_path = r'C:\\Users\\joeBurchett\\Documents\\CosmoVis\\CosmoVis\\static\\data\\RefL0100N1504\\snapshot_028_z000p000\\snap_028_z000p000.0.hdf5'\n",
    "# sim_type = 'EAGLE'\n",
    "\n",
    "\n",
    "#100 Mpc TNG z=2.3\n",
    "# sim_path = r'D:\\TNG100_z2p3\\snap_030.0.hdf5'\n",
    "# sim_type = 'TNG'\n",
    "\n",
    "# list of voxel grid resolutions to export (creates cubes based on specified edge length)\n",
    "resolution_list = [64,128,256,512]\n",
    "# fields that will be exported for visualization\n",
    "# field_list = []\n",
    "field_list = [('PartType0','Metallicity')]\n",
    "# field_list = [('PartType0','Temperature'),('PartType0','Carbon'),('PartType0','Density'),('PartType0','Entropy'),('PartType0','Metallicity'),('PartType0','Oxygen'),('PartType0', 'H_number_density'),('deposit', 'PartType1_density')]\n",
    "# field_list = [('PartType0','temperature'),('PartType0','Density'),('PartType0','GFM_Metallicity'),('PartType0','Masses'),('PartType0','H_p1_number_density')]\n",
    "# percent of star particles to export (takes a random sampling)\n",
    "star_percent = 0.2 # set to zero because it has already been exported"
   ]
  },
  {
   "cell_type": "code",
   "execution_count": 12,
   "metadata": {
    "scrolled": true
   },
   "outputs": [
    {
     "name": "stderr",
     "output_type": "stream",
     "text": [
      "yt : [INFO     ] 2021-03-27 13:40:59,857 Parameters: current_time              = 0.0\n",
      "yt : [INFO     ] 2021-03-27 13:40:59,859 Parameters: domain_dimensions         = [1 1 1]\n",
      "yt : [INFO     ] 2021-03-27 13:40:59,861 Parameters: domain_left_edge          = [0. 0. 0.]\n",
      "yt : [INFO     ] 2021-03-27 13:40:59,864 Parameters: domain_right_edge         = [3.08567758e+22 3.08567758e+22 3.08567758e+22]\n",
      "yt : [INFO     ] 2021-03-27 13:40:59,866 Parameters: cosmological_simulation   = 0.0\n"
     ]
    },
    {
     "name": "stdout",
     "output_type": "stream",
     "text": [
      "\n",
      "Creating single-cell dataset\n",
      "----------------------------\n",
      "\n",
      "\n",
      "Creating ray object through single-cell dataset\n",
      "-----------------------------------------------\n",
      "\n"
     ]
    },
    {
     "name": "stderr",
     "output_type": "stream",
     "text": [
      "yt : [INFO     ] 2021-03-27 13:41:01,066 Getting segment at z = 0.0: [0. 0. 0.] unitary to [1. 1. 1.] unitary.\n",
      "yt : [INFO     ] 2021-03-27 13:41:01,070 Getting subsegment: [unyt_quantity(0., 'unitary'), unyt_quantity(0., 'unitary'), unyt_quantity(0., 'unitary')] to [unyt_quantity(1., 'unitary'), unyt_quantity(1., 'unitary'), unyt_quantity(1., 'unitary')].\n",
      "C:\\Users\\joeBurchett\\.conda\\envs\\cv\\lib\\site-packages\\unyt\\array.py:1779: RuntimeWarning: invalid value encountered in true_divide\n",
      "  inp0.view(np.ndarray), inp1.view(np.ndarray), out=out_func, **kwargs\n",
      "yt : [INFO     ] 2021-03-27 13:41:01,252 Saving field data to yt dataset: C:\\Users\\JOEBUR~1\\AppData\\Local\\Temp\\tmpv1sjdyed\\ray.h5.\n",
      "yt : [INFO     ] 2021-03-27 13:41:01,346 Parameters: current_time              = 0.0 code_time\n",
      "yt : [INFO     ] 2021-03-27 13:41:01,347 Parameters: domain_dimensions         = [1 1 1]\n",
      "yt : [INFO     ] 2021-03-27 13:41:01,349 Parameters: domain_left_edge          = [0. 0. 0.] code_length\n",
      "yt : [INFO     ] 2021-03-27 13:41:01,351 Parameters: domain_right_edge         = [3.08567758e+22 3.08567758e+22 3.08567758e+22] code_length\n",
      "yt : [INFO     ] 2021-03-27 13:41:01,352 Parameters: cosmological_simulation   = 0.0\n",
      "yt : [INFO     ] 2021-03-27 13:41:01,352 Setting instrument to COS\n",
      "yt : [INFO     ] 2021-03-27 13:41:01,388 Allocating for 1.000e+00 particles\n"
     ]
    },
    {
     "name": "stdout",
     "output_type": "stream",
     "text": [
      "\n",
      "Create spectrum with Lyman alpha, Mg II, and O VI lines\n",
      "-------------------------------------------------------\n",
      "\n"
     ]
    },
    {
     "name": "stderr",
     "output_type": "stream",
     "text": [
      "yt : [INFO     ] 2021-03-27 13:41:02,130 Creating H_p0_number_density from ray's density, temperature, metallicity.\n",
      "yt : [INFO     ] 2021-03-27 13:41:02,137 Creating Mg_p1_number_density from ray's density, temperature, metallicity.\n",
      "yt : [INFO     ] 2021-03-27 13:41:02,156 Creating O_p5_number_density from ray's density, temperature, metallicity.\n",
      "yt : [INFO     ] 2021-03-27 13:41:02,169 Creating spectrum\n",
      "yt : [INFO     ] 2021-03-27 13:41:02,347 1 out of 1 line components will be deposited as unresolved lines.\n",
      "yt : [INFO     ] 2021-03-27 13:41:02,378 Not adding line O VI 1038: insufficient column density\n",
      "yt : [INFO     ] 2021-03-27 13:41:02,380 Not adding line O VI 1032: insufficient column density\n",
      "yt : [INFO     ] 2021-03-27 13:41:02,384 Not adding continuum Ly C: insufficient column density or out of range\n",
      "yt : [INFO     ] 2021-03-27 13:41:02,388 Writing spectrum to hdf5 file: C:\\Users\\JOEBUR~1\\AppData\\Local\\Temp\\tmpv1sjdyed\\spec_raw.h5.\n",
      "yt : [INFO     ] 2021-03-27 13:41:02,415 Writing spectrum plot to png file: C:\\Users\\JOEBUR~1\\AppData\\Local\\Temp\\tmpv1sjdyed\\spec_raw.png\n",
      "yt : [INFO     ] 2021-03-27 13:41:02,642 Applying default line spread function for COS.\n",
      "yt : [INFO     ] 2021-03-27 13:41:02,671 Writing spectrum to hdf5 file: C:\\Users\\JOEBUR~1\\AppData\\Local\\Temp\\tmpv1sjdyed\\spec_final.h5.\n",
      "yt : [INFO     ] 2021-03-27 13:41:02,689 Writing spectrum plot to png file: C:\\Users\\JOEBUR~1\\AppData\\Local\\Temp\\tmpv1sjdyed\\spec_final.png\n",
      "yt : [INFO     ] 2021-03-27 13:41:02,907 Parameters: current_time              = 4.361428036047735e+17 s\n",
      "yt : [INFO     ] 2021-03-27 13:41:02,909 Parameters: domain_dimensions         = [1 1 1]\n",
      "yt : [INFO     ] 2021-03-27 13:41:02,910 Parameters: domain_left_edge          = [0. 0. 0.]\n",
      "yt : [INFO     ] 2021-03-27 13:41:02,911 Parameters: domain_right_edge         = [16.9425 16.9425 16.9425]\n",
      "yt : [INFO     ] 2021-03-27 13:41:02,912 Parameters: cosmological_simulation   = 1\n",
      "yt : [INFO     ] 2021-03-27 13:41:02,913 Parameters: current_redshift          = 2.220446049250313e-16\n",
      "yt : [INFO     ] 2021-03-27 13:41:02,914 Parameters: omega_lambda              = 0.693\n",
      "yt : [INFO     ] 2021-03-27 13:41:02,916 Parameters: omega_matter              = 0.307\n",
      "yt : [INFO     ] 2021-03-27 13:41:02,918 Parameters: omega_radiation           = 0.0\n",
      "yt : [INFO     ] 2021-03-27 13:41:02,919 Parameters: hubble_constant           = 0.6777\n"
     ]
    },
    {
     "name": "stdout",
     "output_type": "stream",
     "text": [
      "Removing all temporary data files...\n",
      "\n",
      "Congratulations, you have verified that Trident is installed correctly.\n",
      "Now let's science!\n",
      "\n",
      "LOADING DATA\n",
      "C:\\Users\\joeBurchett\\Documents\\CosmoVis\\CosmoVis\\static\\data\\RefL0025N0376\\snapshot_028_z000p000\\snap_028_z000p000.0.hdf5\n",
      "EXTRACTING FIELD LIST\n"
     ]
    },
    {
     "name": "stderr",
     "output_type": "stream",
     "text": [
      "yt : [INFO     ] 2021-03-27 13:41:03,863 Allocating for 1.063e+08 particles\n",
      "Loading particle index: 100%|███████████████████████████████████████████████████████▋| 207/208 [00:03<00:00, 55.61it/s]\n",
      "Interpolating SPH field ('PartType0', 'Metallicity'): 0it [00:00, ?it/s]"
     ]
    },
    {
     "name": "stdout",
     "output_type": "stream",
     "text": [
      "[('PartType0', 'AExpMaximumTemperature'), ('PartType0', 'Carbon'), ('PartType0', 'Coordinates'), ('PartType0', 'Density'), ('PartType0', 'Entropy'), ('PartType0', 'GroupNumber'), ('PartType0', 'Helium'), ('PartType0', 'HostHalo_TVir_Mass'), ('PartType0', 'Hydrogen'), ('PartType0', 'InternalEnergy'), ('PartType0', 'Iron'), ('PartType0', 'IronMassFracFromSNIa'), ('PartType0', 'Magnesium'), ('PartType0', 'Mass'), ('PartType0', 'MaximumTemperature'), ('PartType0', 'MetalMassFracFromAGB'), ('PartType0', 'MetalMassFracFromSNII'), ('PartType0', 'MetalMassFracFromSNIa'), ('PartType0', 'Metallicity'), ('PartType0', 'Neon'), ('PartType0', 'Nitrogen'), ('PartType0', 'OnEquationOfState'), ('PartType0', 'Oxygen'), ('PartType0', 'ParticleIDs'), ('PartType0', 'Silicon'), ('PartType0', 'SmoothedIronMassFracFromSNIa'), ('PartType0', 'SmoothedMetallicity'), ('PartType0', 'SmoothingLength'), ('PartType0', 'StarFormationRate'), ('PartType0', 'SubGroupNumber'), ('PartType0', 'Temperature'), ('PartType0', 'TotalMassFromAGB'), ('PartType0', 'TotalMassFromSNII'), ('PartType0', 'TotalMassFromSNIa'), ('PartType0', 'Velocity'), ('PartType1', 'Coordinates'), ('PartType1', 'GroupNumber'), ('PartType1', 'Mass'), ('PartType1', 'ParticleIDs'), ('PartType1', 'SubGroupNumber'), ('PartType1', 'Velocity'), ('PartType4', 'AExpMaximumTemperature'), ('PartType4', 'BirthDensity'), ('PartType4', 'Carbon'), ('PartType4', 'Coordinates'), ('PartType4', 'Feedback_EnergyFraction'), ('PartType4', 'GroupNumber'), ('PartType4', 'Helium'), ('PartType4', 'HostHalo_TVir'), ('PartType4', 'HostHalo_TVir_Mass'), ('PartType4', 'Hydrogen'), ('PartType4', 'InitialMass'), ('PartType4', 'Iron'), ('PartType4', 'IronMassFracFromSNIa'), ('PartType4', 'Magnesium'), ('PartType4', 'Mass'), ('PartType4', 'MaximumTemperature'), ('PartType4', 'MetalMassFracFromAGB'), ('PartType4', 'MetalMassFracFromSNII'), ('PartType4', 'MetalMassFracFromSNIa'), ('PartType4', 'Metallicity'), ('PartType4', 'Neon'), ('PartType4', 'Nitrogen'), ('PartType4', 'Oxygen'), ('PartType4', 'ParticleIDs'), ('PartType4', 'PreviousStellarEnrichment'), ('PartType4', 'Silicon'), ('PartType4', 'SmoothedIronMassFracFromSNIa'), ('PartType4', 'SmoothedMetallicity'), ('PartType4', 'SmoothingLength'), ('PartType4', 'StellarEnrichmentCounter'), ('PartType4', 'StellarFormationTime'), ('PartType4', 'SubGroupNumber'), ('PartType4', 'TotalMassFromAGB'), ('PartType4', 'TotalMassFromSNII'), ('PartType4', 'TotalMassFromSNIa'), ('PartType4', 'Velocity'), ('PartType5', 'BH_CumlAccrMass'), ('PartType5', 'BH_CumlNumSeeds'), ('PartType5', 'BH_Density'), ('PartType5', 'BH_FormationTime'), ('PartType5', 'BH_Mass'), ('PartType5', 'BH_Mdot'), ('PartType5', 'BH_MostMassiveProgenitorID'), ('PartType5', 'BH_Pressure'), ('PartType5', 'BH_SoundSpeed'), ('PartType5', 'BH_SurroundingGasVel'), ('PartType5', 'BH_TimeLastMerger'), ('PartType5', 'Coordinates'), ('PartType5', 'GroupNumber'), ('PartType5', 'HostHalo_TVir_Mass'), ('PartType5', 'Mass'), ('PartType5', 'ParticleIDs'), ('PartType5', 'SmoothingLength'), ('PartType5', 'SubGroupNumber'), ('PartType5', 'Velocity'), ('all', 'Coordinates'), ('all', 'GroupNumber'), ('all', 'Mass'), ('all', 'ParticleIDs'), ('all', 'SubGroupNumber'), ('all', 'Velocity'), ('nbody', 'Coordinates'), ('nbody', 'GroupNumber'), ('nbody', 'Mass'), ('nbody', 'ParticleIDs'), ('nbody', 'SubGroupNumber'), ('nbody', 'Velocity')]\n",
      "GENERATING VOXEL GRIDS\n",
      "create grid\n",
      "64\n",
      "EXTRACTING: PartType0, Metallicity\n"
     ]
    },
    {
     "name": "stderr",
     "output_type": "stream",
     "text": [
      "Interpolating SPH field ('PartType0', 'Metallicity'): 116700000it [01:58, 988832.86it/s] \n",
      "C:\\Users\\joeBurchett\\Documents\\CosmoVis\\CosmoVis\\preprocess.py:141: RuntimeWarning: divide by zero encountered in log10\n",
      "  out = np.log10(voxelized_data.tolist())\n"
     ]
    },
    {
     "name": "stdout",
     "output_type": "stream",
     "text": [
      "Metallicity Zsun\n",
      "0.40333544962076656\n",
      "-inf\n",
      "0.40333544962076656\n",
      "-inf\n"
     ]
    },
    {
     "name": "stderr",
     "output_type": "stream",
     "text": [
      "\r",
      "Interpolating SPH field ('PartType0', 'Metallicity'): 0it [00:00, ?it/s]"
     ]
    },
    {
     "name": "stdout",
     "output_type": "stream",
     "text": [
      "create grid\n",
      "128\n",
      "EXTRACTING: PartType0, Metallicity\n"
     ]
    },
    {
     "name": "stderr",
     "output_type": "stream",
     "text": [
      "Interpolating SPH field ('PartType0', 'Metallicity'): 116700000it [02:02, 949489.33it/s] \n"
     ]
    },
    {
     "name": "stdout",
     "output_type": "stream",
     "text": [
      "Metallicity Zsun\n",
      "0.6276030401323611\n",
      "-inf\n",
      "0.6276030401323611\n",
      "-inf\n"
     ]
    },
    {
     "name": "stderr",
     "output_type": "stream",
     "text": [
      "\r",
      "Interpolating SPH field ('PartType0', 'Metallicity'): 0it [00:00, ?it/s]"
     ]
    },
    {
     "name": "stdout",
     "output_type": "stream",
     "text": [
      "create grid\n",
      "256\n",
      "EXTRACTING: PartType0, Metallicity\n"
     ]
    },
    {
     "name": "stderr",
     "output_type": "stream",
     "text": [
      "Interpolating SPH field ('PartType0', 'Metallicity'): 116700000it [02:44, 710276.52it/s] \n"
     ]
    },
    {
     "name": "stdout",
     "output_type": "stream",
     "text": [
      "Metallicity Zsun\n",
      "0.6440592175097359\n",
      "-inf\n",
      "0.6440592175097359\n",
      "-inf\n"
     ]
    },
    {
     "name": "stderr",
     "output_type": "stream",
     "text": [
      "\r",
      "Interpolating SPH field ('PartType0', 'Metallicity'): 0it [00:00, ?it/s]"
     ]
    },
    {
     "name": "stdout",
     "output_type": "stream",
     "text": [
      "create grid\n",
      "512\n",
      "EXTRACTING: PartType0, Metallicity\n"
     ]
    },
    {
     "name": "stderr",
     "output_type": "stream",
     "text": [
      "Interpolating SPH field ('PartType0', 'Metallicity'): 116700000it [06:55, 280932.81it/s]\n"
     ]
    },
    {
     "name": "stdout",
     "output_type": "stream",
     "text": [
      "Metallicity Zsun\n",
      "0.6455410315191252\n",
      "-inf\n",
      "0.6455410315191252\n",
      "-inf\n",
      "EXPORTING STARS\n",
      "exported stars\n"
     ]
    }
   ],
   "source": [
    "eagle_gridlist = preprocess.extractFeatures(sim_path,sim_type,resolution_list,field_list,star_percent)"
   ]
  },
  {
   "cell_type": "code",
   "execution_count": 9,
   "metadata": {},
   "outputs": [
    {
     "data": {
      "text/plain": [
       "-100.0"
      ]
     },
     "execution_count": 9,
     "metadata": {},
     "output_type": "execute_result"
    }
   ],
   "source": [
    "np.log10(1e-100)"
   ]
  },
  {
   "cell_type": "code",
   "execution_count": 3,
   "metadata": {},
   "outputs": [
    {
     "name": "stderr",
     "output_type": "stream",
     "text": [
      "yt : [INFO     ] 2021-03-25 15:11:00,884 Calculating time from 3.016e-01 to be 8.958e+16 seconds\n",
      "yt : [INFO     ] 2021-03-25 15:11:01,025 Parameters: current_time              = 8.958140341877211e+16 s\n",
      "yt : [INFO     ] 2021-03-25 15:11:01,025 Parameters: domain_dimensions         = [1 1 1]\n",
      "yt : [INFO     ] 2021-03-25 15:11:01,025 Parameters: domain_left_edge          = [0. 0. 0.]\n",
      "yt : [INFO     ] 2021-03-25 15:11:01,040 Parameters: domain_right_edge         = [75000. 75000. 75000.]\n",
      "yt : [INFO     ] 2021-03-25 15:11:01,040 Parameters: cosmological_simulation   = 1\n",
      "yt : [INFO     ] 2021-03-25 15:11:01,040 Parameters: current_redshift          = 2.3161107439568918\n",
      "yt : [INFO     ] 2021-03-25 15:11:01,040 Parameters: omega_lambda              = 0.6911\n",
      "yt : [INFO     ] 2021-03-25 15:11:01,044 Parameters: omega_matter              = 0.3089\n",
      "yt : [INFO     ] 2021-03-25 15:11:01,044 Parameters: omega_radiation           = 0.0\n",
      "yt : [INFO     ] 2021-03-25 15:11:01,044 Parameters: hubble_constant           = 0.6774\n"
     ]
    }
   ],
   "source": [
    "import yt\n",
    "import trident\n",
    "import eagleSqlTools as sql\n",
    "import numpy as np\n",
    "import yt.units as units\n",
    "from yt.visualization.volume_rendering.api import PointSource\n",
    "from yt.units import kpc\n",
    "ds = yt.load(sim_path)"
   ]
  },
  {
   "cell_type": "code",
   "execution_count": 4,
   "metadata": {},
   "outputs": [
    {
     "name": "stderr",
     "output_type": "stream",
     "text": [
      "yt : [INFO     ] 2021-03-25 15:12:08,929 Allocating for 1.188e+10 particles\n",
      "Loading particle index: 100%|███████████████████████████████████████████████████▉| 23232/23233 [10:38<00:00, 36.39it/s]\n"
     ]
    }
   ],
   "source": [
    "ad = ds.all_data()"
   ]
  },
  {
   "cell_type": "code",
   "execution_count": 7,
   "metadata": {},
   "outputs": [],
   "source": [
    "percent = 10.0\n",
    "index = np.random.randint(0,len(ad['PartType4', 'Coordinates']),size=int(len(ad['PartType4', 'Coordinates'])*(percent/100)))\n",
    "star_particles = {}\n",
    "#     np.random.default_rng(4)\n",
    "for i in range(0,int(len(index)-1)):\n",
    "    j = index[i]\n",
    "    star_particles[i] = (\n",
    "                            round(float(ad['PartType4', 'Coordinates'][j][0].in_units('Mpc')),4), #x\n",
    "                            round(float(ad['PartType4', 'Coordinates'][j][1].in_units('Mpc')),4),   #y\n",
    "                            round(float(ad['PartType4', 'Coordinates'][j][2].in_units('Mpc')),4),   #z\n",
    "                            float(ad['PartType4', 'SubGroupNumber'][j]), # group ID\n",
    "                            round(float(np.log10(ad['PartType4', 'Mass'][j].in_units('Msun'))),2) # stellar mass\n",
    "                        )"
   ]
  },
  {
   "cell_type": "code",
   "execution_count": 8,
   "metadata": {},
   "outputs": [
    {
     "data": {
      "text/plain": [
       "unyt_array([33.38774626, 33.38774626, 33.38774626], 'Mpc')"
      ]
     },
     "execution_count": 8,
     "metadata": {},
     "output_type": "execute_result"
    }
   ],
   "source": [
    "ad.right_edge.in_units('Mpc')"
   ]
  },
  {
   "cell_type": "code",
   "execution_count": 5,
   "metadata": {},
   "outputs": [
    {
     "data": {
      "text/plain": [
       "False"
      ]
     },
     "execution_count": 5,
     "metadata": {},
     "output_type": "execute_result"
    }
   ],
   "source": [
    "import mpi4py\n",
    "yt.enable_parallelism()"
   ]
  },
  {
   "cell_type": "code",
   "execution_count": 6,
   "metadata": {},
   "outputs": [
    {
     "data": {
      "text/plain": [
       "unyt_quantity(1433.90826193, 'K')"
      ]
     },
     "execution_count": 6,
     "metadata": {},
     "output_type": "execute_result"
    }
   ],
   "source": [
    "temp_min = np.min(ad['gas','temperature'])\n",
    "temp_min"
   ]
  },
  {
   "cell_type": "code",
   "execution_count": 7,
   "metadata": {},
   "outputs": [
    {
     "data": {
      "text/plain": [
       "unyt_quantity(7.6024808e+08, 'K')"
      ]
     },
     "execution_count": 7,
     "metadata": {},
     "output_type": "execute_result"
    }
   ],
   "source": [
    "temp_max = np.max(ad['PartType0','temperature'])\n",
    "temp_max"
   ]
  },
  {
   "cell_type": "code",
   "execution_count": 14,
   "metadata": {},
   "outputs": [
    {
     "data": {
      "text/plain": [
       "unyt_quantity(3.22215222e-31, 'g/cm**3')"
      ]
     },
     "execution_count": 14,
     "metadata": {},
     "output_type": "execute_result"
    }
   ],
   "source": [
    "dens_min = np.min(ad['PartType0','Density'])\n",
    "dens_min.in_cgs()"
   ]
  },
  {
   "cell_type": "code",
   "execution_count": 15,
   "metadata": {},
   "outputs": [
    {
     "data": {
      "text/plain": [
       "unyt_quantity(4.31157793e-19, 'g/cm**3')"
      ]
     },
     "execution_count": 15,
     "metadata": {},
     "output_type": "execute_result"
    }
   ],
   "source": [
    "dens_max = np.max(ad['PartType0','Density'])\n",
    "dens_max.in_cgs()"
   ]
  },
  {
   "cell_type": "code",
   "execution_count": 17,
   "metadata": {},
   "outputs": [
    {
     "data": {
      "text/plain": [
       "unyt_quantity(4.06559314e-10, '(dimensionless)')"
      ]
     },
     "execution_count": 17,
     "metadata": {},
     "output_type": "execute_result"
    }
   ],
   "source": [
    "metal_min = np.min(ad['PartType0','GFM_Metallicity'])\n",
    "metal_min#.in_units('')"
   ]
  },
  {
   "cell_type": "code",
   "execution_count": 20,
   "metadata": {},
   "outputs": [
    {
     "data": {
      "text/plain": [
       "unyt_quantity(0.16250114, '(dimensionless)')"
      ]
     },
     "execution_count": 20,
     "metadata": {},
     "output_type": "execute_result"
    }
   ],
   "source": [
    "metal_max = np.max(ad['PartType0','GFM_Metallicity'])\n",
    "metal_max"
   ]
  },
  {
   "cell_type": "code",
   "execution_count": 22,
   "metadata": {},
   "outputs": [
    {
     "data": {
      "text/plain": [
       "unyt_quantity(3.11659301e-06, 'code_mass')"
      ]
     },
     "execution_count": 22,
     "metadata": {},
     "output_type": "execute_result"
    }
   ],
   "source": [
    "masses_min = np.min(ad['PartType0','Masses'])\n",
    "masses_min"
   ]
  },
  {
   "cell_type": "code",
   "execution_count": 25,
   "metadata": {},
   "outputs": [
    {
     "data": {
      "text/plain": [
       "unyt_quantity(0.00150664, 'code_mass')"
      ]
     },
     "execution_count": 25,
     "metadata": {},
     "output_type": "execute_result"
    }
   ],
   "source": [
    "masses_max = np.max(ad['PartType0','Masses'])\n",
    "masses_max"
   ]
  },
  {
   "cell_type": "code",
   "execution_count": 26,
   "metadata": {},
   "outputs": [
    {
     "data": {
      "text/plain": [
       "unyt_quantity(1.46310638e-07, 'cm**(-3)')"
      ]
     },
     "execution_count": 26,
     "metadata": {},
     "output_type": "execute_result"
    }
   ],
   "source": [
    "h_num_den_min = np.min(ad['PartType0','H_p1_number_density'])\n",
    "h_num_den_min"
   ]
  },
  {
   "cell_type": "code",
   "execution_count": 28,
   "metadata": {},
   "outputs": [
    {
     "data": {
      "text/plain": [
       "unyt_quantity(195778.99400071, 'cm**(-3)')"
      ]
     },
     "execution_count": 28,
     "metadata": {},
     "output_type": "execute_result"
    }
   ],
   "source": [
    "h_num_den_max = np.max(ad['PartType0','H_p1_number_density'])\n",
    "h_num_den_max"
   ]
  },
  {
   "cell_type": "code",
   "execution_count": null,
   "metadata": {},
   "outputs": [],
   "source": []
  },
  {
   "cell_type": "code",
   "execution_count": null,
   "metadata": {},
   "outputs": [],
   "source": [
    "# ad['PartType0','Density')],('PartType0','GFM_Metallicity'),('PartType0','Masses'),('PartType0','H_p1_number_density')]"
   ]
  },
  {
   "cell_type": "code",
   "execution_count": 148,
   "metadata": {},
   "outputs": [
    {
     "name": "stdout",
     "output_type": "stream",
     "text": [
      "51176685929.0\n"
     ]
    },
    {
     "data": {
      "text/plain": [
       "unyt_array([5.11758014e+10, 5.11775935e+10, 5.11765510e+10,\n",
       "            5.11757314e+10, 5.11761259e+10, 5.11768056e+10,\n",
       "            5.11774570e+10, 5.11762818e+10, 5.11773708e+10,\n",
       "            5.11760628e+10, 5.11770669e+10, 5.11772535e+10], '(dimensionless)')"
      ]
     },
     "execution_count": 148,
     "metadata": {},
     "output_type": "execute_result"
    }
   ],
   "source": [
    "# from yt.data_objects.particle_filters import add_particle_filter\n",
    "\n",
    "i = ad['PartType4','ParticleIDs'][1]\n",
    "print(float(i))\n",
    "\n",
    "cr = ad.cut_region(field_cuts=[\"obj['PartType0','ParticleIDs'] > \"+str(float(i)-1000000.0)+\"\", \"obj['PartType0','ParticleIDs'] < \"+str(float(i)+1000000.0)+\"\"])\n",
    "cr['PartType0',\"ParticleIDs\"]\n",
    "# cr[\"PartType0\",\"ParticleIDs\"]\n",
    "# for j in range(len(ad['PartType0','ParticleIDs'])):\n",
    "#     if int(ad['PartType0','ParticleIDs'][j]) == i:\n",
    "#         print(ad['PartType0','StarFormationRate'][j])\n",
    "# i = int(ad['PartType0','ParticleIDs'][0])\n",
    "# print(i)\n",
    "\n",
    "# def star_filter(pfilter,data):\n",
    "#     ID = data[\"PartType0\",\"ParticleIDs\"]\n",
    "#     print(ID)\n",
    "#     filter = np.logical_and(ID > i-1, ID < i+1)\n",
    "#     return filter\n",
    "\n",
    "\n",
    "# add_particle_filter(\"star_filter\", function=star_filter, filtered_type=\"PartType0\",requires=[\"ParticleIDs\"])\n",
    "# ds = yt.load(sim_path)\n",
    "# ds.add_particle_filter(\"star_filter\")\n",
    "# adf = ds.all_data()"
   ]
  },
  {
   "cell_type": "code",
   "execution_count": 89,
   "metadata": {},
   "outputs": [
    {
     "name": "stdout",
     "output_type": "stream",
     "text": [
      "[1.50197628e+10 1.50180644e+10 1.50159583e+10 ... 2.92787040e+12\n",
      " 7.30873323e+12 4.24098627e+12] dimensionless\n"
     ]
    },
    {
     "data": {
      "text/plain": [
       "unyt_array([], dtype=float64, units='(dimensionless)')"
      ]
     },
     "execution_count": 89,
     "metadata": {},
     "output_type": "execute_result"
    }
   ],
   "source": [
    "adf[\"star_filter\",\"ParticleIDs\"]"
   ]
  },
  {
   "cell_type": "code",
   "execution_count": 6,
   "metadata": {
    "scrolled": true
   },
   "outputs": [
    {
     "name": "stdout",
     "output_type": "stream",
     "text": [
      "[[array([[[0.0000000e+00, 0.0000000e+00, 0.0000000e+00, ...,\n",
      "         0.0000000e+00, 0.0000000e+00, 0.0000000e+00],\n",
      "        [0.0000000e+00, 0.0000000e+00, 0.0000000e+00, ...,\n",
      "         0.0000000e+00, 0.0000000e+00, 0.0000000e+00],\n",
      "        [4.0267481e-04, 5.3750305e-04, 4.1604389e-06, ...,\n",
      "         0.0000000e+00, 0.0000000e+00, 4.8666511e-08],\n",
      "        ...,\n",
      "        [4.7543767e-04, 1.1089259e-02, 1.2263334e-02, ...,\n",
      "         1.2303133e-01, 5.7728165e-03, 0.0000000e+00],\n",
      "        [4.3529563e-04, 8.9200241e-03, 1.6879155e-04, ...,\n",
      "         0.0000000e+00, 0.0000000e+00, 0.0000000e+00],\n",
      "        [0.0000000e+00, 0.0000000e+00, 0.0000000e+00, ...,\n",
      "         0.0000000e+00, 0.0000000e+00, 0.0000000e+00]],\n",
      "\n",
      "       [[0.0000000e+00, 7.9529370e-09, 4.3594264e-05, ...,\n",
      "         0.0000000e+00, 0.0000000e+00, 0.0000000e+00],\n",
      "        [0.0000000e+00, 0.0000000e+00, 0.0000000e+00, ...,\n",
      "         0.0000000e+00, 0.0000000e+00, 0.0000000e+00],\n",
      "        [4.3672317e-04, 4.3791661e-04, 5.6133308e-06, ...,\n",
      "         0.0000000e+00, 0.0000000e+00, 8.1090874e-08],\n",
      "        ...,\n",
      "        [8.1856698e-03, 5.5431418e-02, 3.1065221e-03, ...,\n",
      "         1.2100621e-01, 2.6885955e-02, 1.1411611e-02],\n",
      "        [6.9329798e-07, 8.4369406e-03, 1.6830999e-02, ...,\n",
      "         2.9711050e-03, 8.8762999e-07, 0.0000000e+00],\n",
      "        [0.0000000e+00, 1.0434608e-02, 6.3100434e-03, ...,\n",
      "         1.3068014e-04, 0.0000000e+00, 0.0000000e+00]],\n",
      "\n",
      "       [[3.9012775e-02, 6.9626770e-03, 2.0078843e-04, ...,\n",
      "         0.0000000e+00, 0.0000000e+00, 0.0000000e+00],\n",
      "        [6.7759793e-05, 1.4777410e-10, 3.3953125e-08, ...,\n",
      "         0.0000000e+00, 0.0000000e+00, 0.0000000e+00],\n",
      "        [8.4124844e-07, 2.4095386e-06, 0.0000000e+00, ...,\n",
      "         0.0000000e+00, 0.0000000e+00, 0.0000000e+00],\n",
      "        ...,\n",
      "        [1.1185724e-03, 5.2681103e-02, 2.6091758e-02, ...,\n",
      "         4.1254118e-01, 1.7488204e-01, 4.2820368e-02],\n",
      "        [0.0000000e+00, 1.0031449e-02, 8.0403332e-03, ...,\n",
      "         6.6899522e-03, 2.5897319e-03, 1.5472006e-08],\n",
      "        [2.0156966e-07, 2.5651616e-03, 1.1902080e-03, ...,\n",
      "         2.9335980e-04, 0.0000000e+00, 0.0000000e+00]],\n",
      "\n",
      "       ...,\n",
      "\n",
      "       [[0.0000000e+00, 0.0000000e+00, 0.0000000e+00, ...,\n",
      "         0.0000000e+00, 0.0000000e+00, 0.0000000e+00],\n",
      "        [2.4510118e-07, 0.0000000e+00, 0.0000000e+00, ...,\n",
      "         0.0000000e+00, 0.0000000e+00, 3.2902246e-06],\n",
      "        [1.9926291e-04, 4.6667614e-07, 0.0000000e+00, ...,\n",
      "         0.0000000e+00, 4.0041177e-05, 3.8763319e-04],\n",
      "        ...,\n",
      "        [0.0000000e+00, 0.0000000e+00, 1.9915516e-03, ...,\n",
      "         0.0000000e+00, 0.0000000e+00, 0.0000000e+00],\n",
      "        [0.0000000e+00, 0.0000000e+00, 0.0000000e+00, ...,\n",
      "         0.0000000e+00, 0.0000000e+00, 0.0000000e+00],\n",
      "        [0.0000000e+00, 0.0000000e+00, 0.0000000e+00, ...,\n",
      "         0.0000000e+00, 0.0000000e+00, 0.0000000e+00]],\n",
      "\n",
      "       [[0.0000000e+00, 0.0000000e+00, 0.0000000e+00, ...,\n",
      "         0.0000000e+00, 0.0000000e+00, 0.0000000e+00],\n",
      "        [0.0000000e+00, 0.0000000e+00, 0.0000000e+00, ...,\n",
      "         0.0000000e+00, 0.0000000e+00, 0.0000000e+00],\n",
      "        [9.5304922e-06, 0.0000000e+00, 0.0000000e+00, ...,\n",
      "         0.0000000e+00, 2.1279936e-07, 2.8354136e-05],\n",
      "        ...,\n",
      "        [0.0000000e+00, 1.8662305e-03, 7.1661130e-02, ...,\n",
      "         5.8921360e-06, 3.5491104e-12, 0.0000000e+00],\n",
      "        [0.0000000e+00, 0.0000000e+00, 8.2270205e-03, ...,\n",
      "         0.0000000e+00, 0.0000000e+00, 0.0000000e+00],\n",
      "        [0.0000000e+00, 0.0000000e+00, 0.0000000e+00, ...,\n",
      "         0.0000000e+00, 0.0000000e+00, 0.0000000e+00]],\n",
      "\n",
      "       [[0.0000000e+00, 0.0000000e+00, 0.0000000e+00, ...,\n",
      "         0.0000000e+00, 0.0000000e+00, 0.0000000e+00],\n",
      "        [0.0000000e+00, 0.0000000e+00, 0.0000000e+00, ...,\n",
      "         0.0000000e+00, 0.0000000e+00, 0.0000000e+00],\n",
      "        [3.3741304e-07, 1.5883069e-06, 0.0000000e+00, ...,\n",
      "         0.0000000e+00, 0.0000000e+00, 0.0000000e+00],\n",
      "        ...,\n",
      "        [2.6405376e-04, 8.1330072e-03, 5.4090351e-02, ...,\n",
      "         1.9699968e-04, 2.3375872e-08, 0.0000000e+00],\n",
      "        [3.7328849e-04, 7.9614818e-03, 4.9913065e-03, ...,\n",
      "         0.0000000e+00, 0.0000000e+00, 0.0000000e+00],\n",
      "        [0.0000000e+00, 0.0000000e+00, 0.0000000e+00, ...,\n",
      "         0.0000000e+00, 0.0000000e+00, 0.0000000e+00]]], dtype=float32)], [array([[[0.0000000e+00, 0.0000000e+00, 0.0000000e+00, ...,\n",
      "         0.0000000e+00, 0.0000000e+00, 0.0000000e+00],\n",
      "        [0.0000000e+00, 0.0000000e+00, 0.0000000e+00, ...,\n",
      "         0.0000000e+00, 0.0000000e+00, 0.0000000e+00],\n",
      "        [0.0000000e+00, 0.0000000e+00, 0.0000000e+00, ...,\n",
      "         0.0000000e+00, 0.0000000e+00, 0.0000000e+00],\n",
      "        ...,\n",
      "        [6.5609761e-08, 1.3671534e-03, 5.3525986e-03, ...,\n",
      "         0.0000000e+00, 0.0000000e+00, 0.0000000e+00],\n",
      "        [0.0000000e+00, 1.5045085e-11, 9.4046671e-05, ...,\n",
      "         0.0000000e+00, 0.0000000e+00, 0.0000000e+00],\n",
      "        [0.0000000e+00, 0.0000000e+00, 0.0000000e+00, ...,\n",
      "         0.0000000e+00, 0.0000000e+00, 0.0000000e+00]],\n",
      "\n",
      "       [[0.0000000e+00, 0.0000000e+00, 0.0000000e+00, ...,\n",
      "         0.0000000e+00, 0.0000000e+00, 0.0000000e+00],\n",
      "        [0.0000000e+00, 0.0000000e+00, 0.0000000e+00, ...,\n",
      "         0.0000000e+00, 0.0000000e+00, 0.0000000e+00],\n",
      "        [0.0000000e+00, 0.0000000e+00, 0.0000000e+00, ...,\n",
      "         0.0000000e+00, 0.0000000e+00, 0.0000000e+00],\n",
      "        ...,\n",
      "        [5.9768808e-11, 1.6908586e-04, 1.2680339e-03, ...,\n",
      "         0.0000000e+00, 0.0000000e+00, 0.0000000e+00],\n",
      "        [0.0000000e+00, 0.0000000e+00, 4.6666941e-08, ...,\n",
      "         0.0000000e+00, 0.0000000e+00, 0.0000000e+00],\n",
      "        [0.0000000e+00, 0.0000000e+00, 0.0000000e+00, ...,\n",
      "         0.0000000e+00, 0.0000000e+00, 0.0000000e+00]],\n",
      "\n",
      "       [[0.0000000e+00, 0.0000000e+00, 0.0000000e+00, ...,\n",
      "         0.0000000e+00, 0.0000000e+00, 0.0000000e+00],\n",
      "        [0.0000000e+00, 0.0000000e+00, 0.0000000e+00, ...,\n",
      "         0.0000000e+00, 0.0000000e+00, 0.0000000e+00],\n",
      "        [0.0000000e+00, 0.0000000e+00, 0.0000000e+00, ...,\n",
      "         0.0000000e+00, 0.0000000e+00, 0.0000000e+00],\n",
      "        ...,\n",
      "        [7.1427120e-10, 2.1077221e-06, 1.9035187e-03, ...,\n",
      "         0.0000000e+00, 0.0000000e+00, 0.0000000e+00],\n",
      "        [0.0000000e+00, 0.0000000e+00, 2.4872797e-03, ...,\n",
      "         0.0000000e+00, 0.0000000e+00, 0.0000000e+00],\n",
      "        [0.0000000e+00, 0.0000000e+00, 2.9242598e-04, ...,\n",
      "         0.0000000e+00, 0.0000000e+00, 0.0000000e+00]],\n",
      "\n",
      "       ...,\n",
      "\n",
      "       [[0.0000000e+00, 0.0000000e+00, 0.0000000e+00, ...,\n",
      "         0.0000000e+00, 0.0000000e+00, 0.0000000e+00],\n",
      "        [0.0000000e+00, 0.0000000e+00, 0.0000000e+00, ...,\n",
      "         0.0000000e+00, 0.0000000e+00, 0.0000000e+00],\n",
      "        [0.0000000e+00, 0.0000000e+00, 0.0000000e+00, ...,\n",
      "         0.0000000e+00, 0.0000000e+00, 0.0000000e+00],\n",
      "        ...,\n",
      "        [0.0000000e+00, 0.0000000e+00, 0.0000000e+00, ...,\n",
      "         0.0000000e+00, 0.0000000e+00, 0.0000000e+00],\n",
      "        [0.0000000e+00, 0.0000000e+00, 0.0000000e+00, ...,\n",
      "         0.0000000e+00, 0.0000000e+00, 0.0000000e+00],\n",
      "        [0.0000000e+00, 0.0000000e+00, 0.0000000e+00, ...,\n",
      "         0.0000000e+00, 0.0000000e+00, 0.0000000e+00]],\n",
      "\n",
      "       [[0.0000000e+00, 0.0000000e+00, 0.0000000e+00, ...,\n",
      "         0.0000000e+00, 0.0000000e+00, 0.0000000e+00],\n",
      "        [0.0000000e+00, 0.0000000e+00, 0.0000000e+00, ...,\n",
      "         0.0000000e+00, 0.0000000e+00, 0.0000000e+00],\n",
      "        [0.0000000e+00, 0.0000000e+00, 0.0000000e+00, ...,\n",
      "         0.0000000e+00, 0.0000000e+00, 0.0000000e+00],\n",
      "        ...,\n",
      "        [0.0000000e+00, 8.1039208e-05, 8.5588207e-04, ...,\n",
      "         0.0000000e+00, 0.0000000e+00, 0.0000000e+00],\n",
      "        [0.0000000e+00, 0.0000000e+00, 0.0000000e+00, ...,\n",
      "         0.0000000e+00, 0.0000000e+00, 0.0000000e+00],\n",
      "        [0.0000000e+00, 0.0000000e+00, 0.0000000e+00, ...,\n",
      "         0.0000000e+00, 0.0000000e+00, 0.0000000e+00]],\n",
      "\n",
      "       [[0.0000000e+00, 0.0000000e+00, 0.0000000e+00, ...,\n",
      "         0.0000000e+00, 0.0000000e+00, 0.0000000e+00],\n",
      "        [0.0000000e+00, 0.0000000e+00, 0.0000000e+00, ...,\n",
      "         0.0000000e+00, 0.0000000e+00, 0.0000000e+00],\n",
      "        [0.0000000e+00, 0.0000000e+00, 0.0000000e+00, ...,\n",
      "         0.0000000e+00, 0.0000000e+00, 0.0000000e+00],\n",
      "        ...,\n",
      "        [3.7452827e-12, 1.3080031e-03, 5.1097712e-03, ...,\n",
      "         0.0000000e+00, 0.0000000e+00, 0.0000000e+00],\n",
      "        [0.0000000e+00, 0.0000000e+00, 6.9357491e-05, ...,\n",
      "         0.0000000e+00, 0.0000000e+00, 0.0000000e+00],\n",
      "        [0.0000000e+00, 0.0000000e+00, 0.0000000e+00, ...,\n",
      "         0.0000000e+00, 0.0000000e+00, 0.0000000e+00]]], dtype=float32)], [array([[[0., 0., 0., ..., 0., 0., 0.],\n",
      "        [0., 0., 0., ..., 0., 0., 0.],\n",
      "        [0., 0., 0., ..., 0., 0., 0.],\n",
      "        ...,\n",
      "        [0., 0., 0., ..., 0., 0., 0.],\n",
      "        [0., 0., 0., ..., 0., 0., 0.],\n",
      "        [0., 0., 0., ..., 0., 0., 0.]],\n",
      "\n",
      "       [[0., 0., 0., ..., 0., 0., 0.],\n",
      "        [0., 0., 0., ..., 0., 0., 0.],\n",
      "        [0., 0., 0., ..., 0., 0., 0.],\n",
      "        ...,\n",
      "        [0., 0., 0., ..., 0., 0., 0.],\n",
      "        [0., 0., 0., ..., 0., 0., 0.],\n",
      "        [0., 0., 0., ..., 0., 0., 0.]],\n",
      "\n",
      "       [[0., 0., 0., ..., 0., 0., 0.],\n",
      "        [0., 0., 0., ..., 0., 0., 0.],\n",
      "        [0., 0., 0., ..., 0., 0., 0.],\n",
      "        ...,\n",
      "        [0., 0., 0., ..., 0., 0., 0.],\n",
      "        [0., 0., 0., ..., 0., 0., 0.],\n",
      "        [0., 0., 0., ..., 0., 0., 0.]],\n",
      "\n",
      "       ...,\n",
      "\n",
      "       [[0., 0., 0., ..., 0., 0., 0.],\n",
      "        [0., 0., 0., ..., 0., 0., 0.],\n",
      "        [0., 0., 0., ..., 0., 0., 0.],\n",
      "        ...,\n",
      "        [0., 0., 0., ..., 0., 0., 0.],\n",
      "        [0., 0., 0., ..., 0., 0., 0.],\n",
      "        [0., 0., 0., ..., 0., 0., 0.]],\n",
      "\n",
      "       [[0., 0., 0., ..., 0., 0., 0.],\n",
      "        [0., 0., 0., ..., 0., 0., 0.],\n",
      "        [0., 0., 0., ..., 0., 0., 0.],\n",
      "        ...,\n",
      "        [0., 0., 0., ..., 0., 0., 0.],\n",
      "        [0., 0., 0., ..., 0., 0., 0.],\n",
      "        [0., 0., 0., ..., 0., 0., 0.]],\n",
      "\n",
      "       [[0., 0., 0., ..., 0., 0., 0.],\n",
      "        [0., 0., 0., ..., 0., 0., 0.],\n",
      "        [0., 0., 0., ..., 0., 0., 0.],\n",
      "        ...,\n",
      "        [0., 0., 0., ..., 0., 0., 0.],\n",
      "        [0., 0., 0., ..., 0., 0., 0.],\n",
      "        [0., 0., 0., ..., 0., 0., 0.]]], dtype=float32)], [array([[[0., 0., 0., ..., 0., 0., 0.],\n",
      "        [0., 0., 0., ..., 0., 0., 0.],\n",
      "        [0., 0., 0., ..., 0., 0., 0.],\n",
      "        ...,\n",
      "        [0., 0., 0., ..., 0., 0., 0.],\n",
      "        [0., 0., 0., ..., 0., 0., 0.],\n",
      "        [0., 0., 0., ..., 0., 0., 0.]],\n",
      "\n",
      "       [[0., 0., 0., ..., 0., 0., 0.],\n",
      "        [0., 0., 0., ..., 0., 0., 0.],\n",
      "        [0., 0., 0., ..., 0., 0., 0.],\n",
      "        ...,\n",
      "        [0., 0., 0., ..., 0., 0., 0.],\n",
      "        [0., 0., 0., ..., 0., 0., 0.],\n",
      "        [0., 0., 0., ..., 0., 0., 0.]],\n",
      "\n",
      "       [[0., 0., 0., ..., 0., 0., 0.],\n",
      "        [0., 0., 0., ..., 0., 0., 0.],\n",
      "        [0., 0., 0., ..., 0., 0., 0.],\n",
      "        ...,\n",
      "        [0., 0., 0., ..., 0., 0., 0.],\n",
      "        [0., 0., 0., ..., 0., 0., 0.],\n",
      "        [0., 0., 0., ..., 0., 0., 0.]],\n",
      "\n",
      "       ...,\n",
      "\n",
      "       [[0., 0., 0., ..., 0., 0., 0.],\n",
      "        [0., 0., 0., ..., 0., 0., 0.],\n",
      "        [0., 0., 0., ..., 0., 0., 0.],\n",
      "        ...,\n",
      "        [0., 0., 0., ..., 0., 0., 0.],\n",
      "        [0., 0., 0., ..., 0., 0., 0.],\n",
      "        [0., 0., 0., ..., 0., 0., 0.]],\n",
      "\n",
      "       [[0., 0., 0., ..., 0., 0., 0.],\n",
      "        [0., 0., 0., ..., 0., 0., 0.],\n",
      "        [0., 0., 0., ..., 0., 0., 0.],\n",
      "        ...,\n",
      "        [0., 0., 0., ..., 0., 0., 0.],\n",
      "        [0., 0., 0., ..., 0., 0., 0.],\n",
      "        [0., 0., 0., ..., 0., 0., 0.]],\n",
      "\n",
      "       [[0., 0., 0., ..., 0., 0., 0.],\n",
      "        [0., 0., 0., ..., 0., 0., 0.],\n",
      "        [0., 0., 0., ..., 0., 0., 0.],\n",
      "        ...,\n",
      "        [0., 0., 0., ..., 0., 0., 0.],\n",
      "        [0., 0., 0., ..., 0., 0., 0.],\n",
      "        [0., 0., 0., ..., 0., 0., 0.]]], dtype=float32)]]\n"
     ]
    }
   ],
   "source": [
    "print(eagle_gridlist)\n",
    "\n",
    "# field_list = [('PartType0','Temperature'),('PartType0','Carbon'),('PartType0','Density'),('PartType0','Entropy'),('PartType0','Metallicity'),('PartType0','Oxygen'),('PartType0', 'H_number_density'),('deposit', 'PartType1_density')]\n"
   ]
  },
  {
   "cell_type": "code",
   "execution_count": 15,
   "metadata": {},
   "outputs": [
    {
     "name": "stdout",
     "output_type": "stream",
     "text": [
      "0.0 4.946543\n"
     ]
    },
    {
     "name": "stderr",
     "output_type": "stream",
     "text": [
      "C:\\Users\\joeBurchett\\.conda\\envs\\cv\\lib\\site-packages\\ipykernel_launcher.py:3: RuntimeWarning: divide by zero encountered in log10\n",
      "  This is separate from the ipykernel package so we can avoid doing imports until\n"
     ]
    },
    {
     "data": {
      "image/png": "[encoded data removed]",
      "text/plain": [
       "<Figure size 432x288 with 1 Axes>"
      ]
     },
     "metadata": {
      "needs_background": "light"
     },
     "output_type": "display_data"
    }
   ],
   "source": [
    "metallicity = eagle_gridlist[3][0]\n",
    "print(np.min(temp),np.max(temp))\n",
    "logs = np.log10(np.array(temp))\n",
    "np.linspace(-10,7.5,255)\n",
    "tbins = np.linspace(-15,1,200)\n",
    "logs.flatten()\n",
    "jk=plt.hist(logs.flatten(),bins=tbins)"
   ]
  },
  {
   "cell_type": "code",
   "execution_count": 45,
   "metadata": {},
   "outputs": [
    {
     "name": "stdout",
     "output_type": "stream",
     "text": [
      "0.0 0.007309413\n"
     ]
    },
    {
     "data": {
      "image/png": "[encoded data removed]",
      "text/plain": [
       "<Figure size 432x288 with 1 Axes>"
      ]
     },
     "metadata": {
      "needs_background": "light"
     },
     "output_type": "display_data"
    }
   ],
   "source": [
    "carbon = gridlist[0][1]\n",
    "print(np.min(carbon),np.max(carbon))\n",
    "logs = np.log10(np.array(carbon)+1)\n",
    "np.linspace(0,0.009,255)\n",
    "tbins = np.linspace(0.001,0.007,200)\n",
    "logs.flatten()\n",
    "jk=plt.hist(logs.flatten(),bins=tbins)"
   ]
  },
  {
   "cell_type": "code",
   "execution_count": 48,
   "metadata": {},
   "outputs": [
    {
     "name": "stdout",
     "output_type": "stream",
     "text": [
      "8.24946e-33 3.8751573e-24\n",
      "-32.083576 -23.41171\n"
     ]
    },
    {
     "data": {
      "image/png": "[encoded data removed]",
      "text/plain": [
       "<Figure size 432x288 with 1 Axes>"
      ]
     },
     "metadata": {
      "needs_background": "light"
     },
     "output_type": "display_data"
    }
   ],
   "source": [
    "density = gridlist[0][2]\n",
    "print( np.min(density), np.max(density))\n",
    "print( np.log10( np.min(density) ) , np.log10( np.max( density ) ) )\n",
    "logs = np.log10(np.array(density))\n",
    "np.linspace(-33,-22,255)\n",
    "tbins = np.linspace(-33.,-27.,255)\n",
    "logs.flatten()\n",
    "jk=plt.hist(logs.flatten(),bins=tbins)"
   ]
  },
  {
   "cell_type": "code",
   "execution_count": 51,
   "metadata": {},
   "outputs": [
    {
     "name": "stdout",
     "output_type": "stream",
     "text": [
      "17.942257 1256525.5\n",
      "1.253877 6.099171\n"
     ]
    },
    {
     "data": {
      "image/png": "[encoded data removed]",
      "text/plain": [
       "<Figure size 432x288 with 1 Axes>"
      ]
     },
     "metadata": {
      "needs_background": "light"
     },
     "output_type": "display_data"
    }
   ],
   "source": [
    "entropy = gridlist[0][3]\n",
    "print( np.min(entropy), np.max(entropy))\n",
    "print( np.log10( np.min(entropy) ) , np.log10( np.max( entropy ) ) )\n",
    "logs = np.log10(np.array(entropy))\n",
    "np.linspace(0.75,6.25,255)\n",
    "tbins = np.linspace(1.,6,255)\n",
    "logs.flatten()\n",
    "jk=plt.hist(logs.flatten(),bins=tbins)"
   ]
  },
  {
   "cell_type": "code",
   "execution_count": 14,
   "metadata": {},
   "outputs": [
    {
     "ename": "NameError",
     "evalue": "name 'gridlist' is not defined",
     "output_type": "error",
     "traceback": [
      "\u001b[1;31m---------------------------------------------------------------------------\u001b[0m",
      "\u001b[1;31mNameError\u001b[0m                                 Traceback (most recent call last)",
      "\u001b[1;32m<ipython-input-14-bcf533f7d29e>\u001b[0m in \u001b[0;36m<module>\u001b[1;34m\u001b[0m\n\u001b[1;32m----> 1\u001b[1;33m \u001b[0mmetallicity\u001b[0m \u001b[1;33m=\u001b[0m \u001b[0mgridlist\u001b[0m\u001b[1;33m[\u001b[0m\u001b[1;36m0\u001b[0m\u001b[1;33m]\u001b[0m\u001b[1;33m[\u001b[0m\u001b[1;36m4\u001b[0m\u001b[1;33m]\u001b[0m\u001b[1;33m\u001b[0m\u001b[1;33m\u001b[0m\u001b[0m\n\u001b[0m\u001b[0;32m      2\u001b[0m \u001b[0mprint\u001b[0m\u001b[1;33m(\u001b[0m \u001b[0mnp\u001b[0m\u001b[1;33m.\u001b[0m\u001b[0mmin\u001b[0m\u001b[1;33m(\u001b[0m\u001b[0mmetallicity\u001b[0m\u001b[1;33m)\u001b[0m\u001b[1;33m,\u001b[0m \u001b[0mnp\u001b[0m\u001b[1;33m.\u001b[0m\u001b[0mmax\u001b[0m\u001b[1;33m(\u001b[0m\u001b[0mmetallicity\u001b[0m\u001b[1;33m)\u001b[0m\u001b[1;33m)\u001b[0m\u001b[1;33m\u001b[0m\u001b[1;33m\u001b[0m\u001b[0m\n\u001b[0;32m      3\u001b[0m \u001b[1;31m# print( np.log10( np.min(metallicity) ) , np.log10( np.max( metallicity ) ) )\u001b[0m\u001b[1;33m\u001b[0m\u001b[1;33m\u001b[0m\u001b[1;33m\u001b[0m\u001b[0m\n\u001b[0;32m      4\u001b[0m \u001b[0mlogs\u001b[0m \u001b[1;33m=\u001b[0m \u001b[0mnp\u001b[0m\u001b[1;33m.\u001b[0m\u001b[0mlog10\u001b[0m\u001b[1;33m(\u001b[0m\u001b[0mnp\u001b[0m\u001b[1;33m.\u001b[0m\u001b[0marray\u001b[0m\u001b[1;33m(\u001b[0m\u001b[0mmetallicity\u001b[0m\u001b[1;33m)\u001b[0m\u001b[1;33m)\u001b[0m\u001b[1;33m\u001b[0m\u001b[1;33m\u001b[0m\u001b[0m\n\u001b[0;32m      5\u001b[0m \u001b[0mnp\u001b[0m\u001b[1;33m.\u001b[0m\u001b[0mlinspace\u001b[0m\u001b[1;33m(\u001b[0m\u001b[1;36m0.75\u001b[0m\u001b[1;33m,\u001b[0m\u001b[1;36m6.25\u001b[0m\u001b[1;33m,\u001b[0m\u001b[1;36m255\u001b[0m\u001b[1;33m)\u001b[0m\u001b[1;33m\u001b[0m\u001b[1;33m\u001b[0m\u001b[0m\n",
      "\u001b[1;31mNameError\u001b[0m: name 'gridlist' is not defined"
     ]
    }
   ],
   "source": [
    "metallicity = gridlist[0][4]\n",
    "print( np.min(metallicity), np.max(metallicity))\n",
    "# print( np.log10( np.min(metallicity) ) , np.log10( np.max( metallicity ) ) )\n",
    "logs = np.log10(np.array(metallicity))\n",
    "np.linspace(0.75,6.25,255)\n",
    "#tbins = np.linspace(0.0001,0.05,255)\n",
    "tbins = np.linspace(-6,2,255)\n",
    "\n",
    "jk=plt.hist(logs.flatten(),bins=tbins)\n",
    "#jk=plt.hist(metallicity.flatten(),bins=tbins)"
   ]
  },
  {
   "cell_type": "code",
   "execution_count": 55,
   "metadata": {},
   "outputs": [
    {
     "name": "stdout",
     "output_type": "stream",
     "text": [
      "0.0 0.018117385\n"
     ]
    },
    {
     "data": {
      "image/png": "[encoded data removed]",
      "text/plain": [
       "<Figure size 432x288 with 1 Axes>"
      ]
     },
     "metadata": {
      "needs_background": "light"
     },
     "output_type": "display_data"
    }
   ],
   "source": [
    "oxygen = gridlist[0][5]\n",
    "print( np.min(oxygen), np.max(oxygen))\n",
    "# print( np.log10( np.min(metallicity) ) , np.log10( np.max( metallicity ) ) )\n",
    "# logs = np.log10(np.array(metallicity))\n",
    "np.linspace(0.75,6.25,255)\n",
    "tbins = np.linspace(0.0,0.02,255)\n",
    "logs.flatten()\n",
    "jk=plt.hist(oxygen.flatten(),bins=tbins)"
   ]
  },
  {
   "cell_type": "code",
   "execution_count": 60,
   "metadata": {},
   "outputs": [
    {
     "name": "stdout",
     "output_type": "stream",
     "text": [
      "3.7064625e-09 1.7410989\n",
      "-8.431041 0.24082343\n"
     ]
    },
    {
     "data": {
      "image/png": "[encoded data removed]",
      "text/plain": [
       "<Figure size 432x288 with 1 Axes>"
      ]
     },
     "metadata": {
      "needs_background": "light"
     },
     "output_type": "display_data"
    }
   ],
   "source": [
    "H_number_density = gridlist[0][6]\n",
    "print( np.min(H_number_density), np.max(H_number_density))\n",
    "print( np.log10( np.min(H_number_density) ) , np.log10( np.max( H_number_density ) ) )\n",
    "logs = np.log10(np.array(H_number_density))\n",
    "np.linspace(0.75,6.25,255)\n",
    "tbins = np.linspace(-8.5,-3,255)\n",
    "logs.flatten()\n",
    "jk=plt.hist(logs.flatten(),bins=tbins)"
   ]
  },
  {
   "cell_type": "code",
   "execution_count": 20,
   "metadata": {},
   "outputs": [
    {
     "name": "stdout",
     "output_type": "stream",
     "text": [
      "0.0 6.3844367e-25\n"
     ]
    },
    {
     "data": {
      "image/png": "[encoded data removed]",
      "text/plain": [
       "<Figure size 432x288 with 1 Axes>"
      ]
     },
     "metadata": {
      "needs_background": "light"
     },
     "output_type": "display_data"
    }
   ],
   "source": [
    "PartType1_density = gridlist[2][7]\n",
    "print( np.min(PartType1_density), np.max(PartType1_density))\n",
    "# print( np.log10( np.min(PartType1_density) ) , np.log10( np.max( PartType1_density ) ) )\n",
    "# logs = np.log10(np.array(PartType1_density))\n",
    "np.linspace(0.75,6.25,255)\n",
    "tbins = np.linspace(1.2e-26,1.3e-26,500)\n",
    "# logs.flatten()\n",
    "jk=plt.hist(PartType1_density.flatten(),bins=tbins)"
   ]
  },
  {
   "cell_type": "code",
   "execution_count": 15,
   "metadata": {
    "scrolled": true
   },
   "outputs": [
    {
     "data": {
      "image/png": "[encoded data removed]",
      "text/plain": [
       "<Figure size 432x288 with 1 Axes>"
      ]
     },
     "metadata": {
      "needs_background": "light"
     },
     "output_type": "display_data"
    }
   ],
   "source": [
    "tbins = np.linspace(0.,2.1937904e-25,255)\n",
    "# logs.flatten()\n",
    "jk=plt.hist(PartType1_density.flatten(),bins=tbins)"
   ]
  },
  {
   "cell_type": "code",
   "execution_count": 28,
   "metadata": {},
   "outputs": [],
   "source": [
    "data = np.array([[64, 1.26664915e-26],\n",
    "                [128, 6.9301215e-26],\n",
    "                [256, 2.1937904e-25],\n",
    "                [512, 6.3844367e-25]])"
   ]
  },
  {
   "cell_type": "code",
   "execution_count": 33,
   "metadata": {},
   "outputs": [
    {
     "data": {
      "image/png": "[encoded data removed]",
      "text/plain": [
       "<Figure size 432x288 with 1 Axes>"
      ]
     },
     "metadata": {
      "needs_background": "light"
     },
     "output_type": "display_data"
    }
   ],
   "source": [
    "plt.plot(data[:,0], data[:,1], linestyle='-',marker='o',color='b')\n",
    "plt.show()"
   ]
  },
  {
   "cell_type": "code",
   "execution_count": null,
   "metadata": {},
   "outputs": [],
   "source": []
  }
 ],
 "metadata": {
  "kernelspec": {
   "display_name": "cv",
   "language": "python",
   "name": "cv"
  },
  "language_info": {
   "codemirror_mode": {
    "name": "ipython",
    "version": 3
   },
   "file_extension": ".py",
   "mimetype": "text/x-python",
   "name": "python",
   "nbconvert_exporter": "python",
   "pygments_lexer": "ipython3",
   "version": "3.7.9"
  }
 },
 "nbformat": 4,
 "nbformat_minor": 4
}
