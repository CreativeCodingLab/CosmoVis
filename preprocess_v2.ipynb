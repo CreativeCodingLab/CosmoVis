{
 "cells": [
  {
   "cell_type": "markdown",
   "metadata": {},
   "source": [
    "# CosmoVis Data Preprocessing"
   ]
  },
  {
   "cell_type": "code",
   "execution_count": 4,
   "metadata": {},
   "outputs": [],
   "source": [
    "# preprocess.py is included in the `CosmoVis/` directory and includes scripts for exporting data products for visualization\n",
    "import preprocess\n",
    "from matplotlib import pyplot as plt\n",
    "%matplotlib inline\n",
    "import numpy as np"
   ]
  },
  {
   "cell_type": "code",
   "execution_count": 5,
   "metadata": {},
   "outputs": [],
   "source": [
    "# assign details for features to export from the desired simulation\n",
    "\n",
    "# path to the simulation\n",
    "# 12 Mpc EAGLE\n",
    "sim_path = r'C:\\Users\\david\\Desktop\\git\\CosmoVis\\static\\data\\RefL0012N0188\\snapshot_028_z000p000\\snap_028_z000p000.0.hdf5'\n",
    "\n",
    "# 25 Mpc EAGLE\n",
    "# sim_path = r'C:\\Users\\david\\Desktop\\git\\CosmoVis\\static\\data\\RefL0025N0376\\snapshot_028_z000p000\\snap_028_z000p000.0.hdf5'\n",
    "\n",
    "\n",
    "# list of voxel grid resolutions to export (creates cubes based on specified edge length)\n",
    "resolution_list = [64,128,256,512]\n",
    "# fields that will be exported for visualization\n",
    "# field_list = [('PartType1', 'Mass')]\n",
    "# field_list = [('PartType0','Temperature'),('PartType0','Carbon'),('PartType0','Density'),('PartType0','Entropy'),('PartType0','Metallicity'),('PartType0','Oxygen'),('PartType0', 'H_number_density'),('deposit', 'PartType1_density')]\n",
    "field_list = []\n",
    "# percent of star particles to export (takes a random sampling)\n",
    "star_percent = 100.0 # set to zero because it has already been exported"
   ]
  },
  {
   "cell_type": "code",
   "execution_count": 6,
   "metadata": {
    "scrolled": false
   },
   "outputs": [
    {
     "name": "stderr",
     "output_type": "stream",
     "text": [
      "yt : [INFO     ] 2021-03-16 13:02:36,867 Parameters: current_time              = 0.0\n",
      "yt : [INFO     ] 2021-03-16 13:02:36,868 Parameters: domain_dimensions         = [1 1 1]\n",
      "yt : [INFO     ] 2021-03-16 13:02:36,868 Parameters: domain_left_edge          = [0. 0. 0.]\n",
      "yt : [INFO     ] 2021-03-16 13:02:36,869 Parameters: domain_right_edge         = [3.08567758e+22 3.08567758e+22 3.08567758e+22]\n",
      "yt : [INFO     ] 2021-03-16 13:02:36,869 Parameters: cosmological_simulation   = 0.0\n"
     ]
    },
    {
     "name": "stdout",
     "output_type": "stream",
     "text": [
      "\n",
      "Creating single-cell dataset\n",
      "----------------------------\n",
      "\n",
      "\n",
      "Creating ray object through single-cell dataset\n",
      "-----------------------------------------------\n",
      "\n"
     ]
    },
    {
     "name": "stderr",
     "output_type": "stream",
     "text": [
      "yt : [INFO     ] 2021-03-16 13:02:37,116 Getting segment at z = 0.0: [0. 0. 0.] unitary to [1. 1. 1.] unitary.\n",
      "yt : [INFO     ] 2021-03-16 13:02:37,118 Getting subsegment: [unyt_quantity(0., 'unitary'), unyt_quantity(0., 'unitary'), unyt_quantity(0., 'unitary')] to [unyt_quantity(1., 'unitary'), unyt_quantity(1., 'unitary'), unyt_quantity(1., 'unitary')].\n",
      "C:\\Users\\david\\Anaconda3\\envs\\py37\\lib\\site-packages\\unyt\\array.py:1779: RuntimeWarning: invalid value encountered in true_divide\n",
      "  inp0.view(np.ndarray), inp1.view(np.ndarray), out=out_func, **kwargs\n",
      "yt : [INFO     ] 2021-03-16 13:02:37,208 Saving field data to yt dataset: C:\\Users\\david\\AppData\\Local\\Temp\\tmpm44xmdci\\ray.h5.\n",
      "yt : [INFO     ] 2021-03-16 13:02:37,244 Parameters: current_time              = 0.0 code_time\n",
      "yt : [INFO     ] 2021-03-16 13:02:37,244 Parameters: domain_dimensions         = [1 1 1]\n",
      "yt : [INFO     ] 2021-03-16 13:02:37,245 Parameters: domain_left_edge          = [0. 0. 0.] code_length\n",
      "yt : [INFO     ] 2021-03-16 13:02:37,245 Parameters: domain_right_edge         = [3.08567758e+22 3.08567758e+22 3.08567758e+22] code_length\n",
      "yt : [INFO     ] 2021-03-16 13:02:37,246 Parameters: cosmological_simulation   = 0.0\n",
      "yt : [INFO     ] 2021-03-16 13:02:37,246 Setting instrument to COS\n",
      "yt : [INFO     ] 2021-03-16 13:02:37,257 Allocating for 1.000e+00 particles\n"
     ]
    },
    {
     "name": "stdout",
     "output_type": "stream",
     "text": [
      "\n",
      "Create spectrum with Lyman alpha, Mg II, and O VI lines\n",
      "-------------------------------------------------------\n",
      "\n"
     ]
    },
    {
     "name": "stderr",
     "output_type": "stream",
     "text": [
      "yt : [INFO     ] 2021-03-16 13:02:37,564 Creating H_p0_number_density from ray's density, temperature, metallicity.\n",
      "yt : [INFO     ] 2021-03-16 13:02:37,566 Creating Mg_p1_number_density from ray's density, temperature, metallicity.\n",
      "yt : [INFO     ] 2021-03-16 13:02:37,568 Creating O_p5_number_density from ray's density, temperature, metallicity.\n",
      "yt : [INFO     ] 2021-03-16 13:02:37,570 Creating spectrum\n",
      "yt : [INFO     ] 2021-03-16 13:02:37,657 1 out of 1 line components will be deposited as unresolved lines.\n",
      "yt : [INFO     ] 2021-03-16 13:02:37,664 Not adding line O VI 1038: insufficient column density\n",
      "yt : [INFO     ] 2021-03-16 13:02:37,665 Not adding line O VI 1032: insufficient column density\n",
      "yt : [INFO     ] 2021-03-16 13:02:37,666 Not adding continuum Ly C: insufficient column density or out of range\n",
      "yt : [INFO     ] 2021-03-16 13:02:37,667 Writing spectrum to hdf5 file: C:\\Users\\david\\AppData\\Local\\Temp\\tmpm44xmdci\\spec_raw.h5.\n",
      "yt : [INFO     ] 2021-03-16 13:02:37,678 Writing spectrum plot to png file: C:\\Users\\david\\AppData\\Local\\Temp\\tmpm44xmdci\\spec_raw.png\n",
      "yt : [INFO     ] 2021-03-16 13:02:37,787 Applying default line spread function for COS.\n",
      "yt : [INFO     ] 2021-03-16 13:02:37,792 Writing spectrum to hdf5 file: C:\\Users\\david\\AppData\\Local\\Temp\\tmpm44xmdci\\spec_final.h5.\n",
      "yt : [INFO     ] 2021-03-16 13:02:37,802 Writing spectrum plot to png file: C:\\Users\\david\\AppData\\Local\\Temp\\tmpm44xmdci\\spec_final.png\n",
      "yt : [INFO     ] 2021-03-16 13:02:37,900 Parameters: current_time              = 4.361428036047735e+17 s\n",
      "yt : [INFO     ] 2021-03-16 13:02:37,901 Parameters: domain_dimensions         = [1 1 1]\n",
      "yt : [INFO     ] 2021-03-16 13:02:37,901 Parameters: domain_left_edge          = [0. 0. 0.]\n",
      "yt : [INFO     ] 2021-03-16 13:02:37,902 Parameters: domain_right_edge         = [8.47125 8.47125 8.47125]\n",
      "yt : [INFO     ] 2021-03-16 13:02:37,902 Parameters: cosmological_simulation   = 1\n",
      "yt : [INFO     ] 2021-03-16 13:02:37,902 Parameters: current_redshift          = 2.220446049250313e-16\n",
      "yt : [INFO     ] 2021-03-16 13:02:37,903 Parameters: omega_lambda              = 0.693\n",
      "yt : [INFO     ] 2021-03-16 13:02:37,904 Parameters: omega_matter              = 0.307\n",
      "yt : [INFO     ] 2021-03-16 13:02:37,904 Parameters: omega_radiation           = 0.0\n",
      "yt : [INFO     ] 2021-03-16 13:02:37,904 Parameters: hubble_constant           = 0.6777\n"
     ]
    },
    {
     "name": "stdout",
     "output_type": "stream",
     "text": [
      "Removing all temporary data files...\n",
      "\n",
      "Congratulations, you have verified that Trident is installed correctly.\n",
      "Now let's science!\n",
      "\n",
      "LOADING DATA\n",
      "C:\\Users\\david\\Desktop\\git\\CosmoVis\\static\\data\\RefL0012N0188\\snapshot_028_z000p000\\snap_028_z000p000.0.hdf5\n",
      "EXTRACTING FIELD LIST\n"
     ]
    },
    {
     "name": "stderr",
     "output_type": "stream",
     "text": [
      "yt : [INFO     ] 2021-03-16 13:02:38,098 Allocating for 1.329e+07 particles\n",
      "Loading particle index:  97%|████████████████████████████████████████████████████████▏ | 31/32 [00:00<00:00, 74.72it/s]\n"
     ]
    },
    {
     "name": "stdout",
     "output_type": "stream",
     "text": [
      "[('PartType0', 'AExpMaximumTemperature'), ('PartType0', 'Carbon'), ('PartType0', 'Coordinates'), ('PartType0', 'Density'), ('PartType0', 'Entropy'), ('PartType0', 'GroupNumber'), ('PartType0', 'Helium'), ('PartType0', 'HostHalo_TVir_Mass'), ('PartType0', 'Hydrogen'), ('PartType0', 'InternalEnergy'), ('PartType0', 'Iron'), ('PartType0', 'IronMassFracFromSNIa'), ('PartType0', 'Magnesium'), ('PartType0', 'Mass'), ('PartType0', 'MaximumTemperature'), ('PartType0', 'MetalMassFracFromAGB'), ('PartType0', 'MetalMassFracFromSNII'), ('PartType0', 'MetalMassFracFromSNIa'), ('PartType0', 'Metallicity'), ('PartType0', 'Neon'), ('PartType0', 'Nitrogen'), ('PartType0', 'OnEquationOfState'), ('PartType0', 'Oxygen'), ('PartType0', 'ParticleIDs'), ('PartType0', 'Silicon'), ('PartType0', 'SmoothedIronMassFracFromSNIa'), ('PartType0', 'SmoothedMetallicity'), ('PartType0', 'SmoothingLength'), ('PartType0', 'StarFormationRate'), ('PartType0', 'SubGroupNumber'), ('PartType0', 'Temperature'), ('PartType0', 'TotalMassFromAGB'), ('PartType0', 'TotalMassFromSNII'), ('PartType0', 'TotalMassFromSNIa'), ('PartType0', 'Velocity'), ('PartType1', 'Coordinates'), ('PartType1', 'GroupNumber'), ('PartType1', 'Mass'), ('PartType1', 'ParticleIDs'), ('PartType1', 'SubGroupNumber'), ('PartType1', 'Velocity'), ('PartType4', 'AExpMaximumTemperature'), ('PartType4', 'BirthDensity'), ('PartType4', 'Carbon'), ('PartType4', 'Coordinates'), ('PartType4', 'Feedback_EnergyFraction'), ('PartType4', 'GroupNumber'), ('PartType4', 'Helium'), ('PartType4', 'HostHalo_TVir'), ('PartType4', 'HostHalo_TVir_Mass'), ('PartType4', 'Hydrogen'), ('PartType4', 'InitialMass'), ('PartType4', 'Iron'), ('PartType4', 'IronMassFracFromSNIa'), ('PartType4', 'Magnesium'), ('PartType4', 'Mass'), ('PartType4', 'MaximumTemperature'), ('PartType4', 'MetalMassFracFromAGB'), ('PartType4', 'MetalMassFracFromSNII'), ('PartType4', 'MetalMassFracFromSNIa'), ('PartType4', 'Metallicity'), ('PartType4', 'Neon'), ('PartType4', 'Nitrogen'), ('PartType4', 'Oxygen'), ('PartType4', 'ParticleIDs'), ('PartType4', 'PreviousStellarEnrichment'), ('PartType4', 'Silicon'), ('PartType4', 'SmoothedIronMassFracFromSNIa'), ('PartType4', 'SmoothedMetallicity'), ('PartType4', 'SmoothingLength'), ('PartType4', 'StellarEnrichmentCounter'), ('PartType4', 'StellarFormationTime'), ('PartType4', 'SubGroupNumber'), ('PartType4', 'TotalMassFromAGB'), ('PartType4', 'TotalMassFromSNII'), ('PartType4', 'TotalMassFromSNIa'), ('PartType4', 'Velocity'), ('PartType5', 'BH_CumlAccrMass'), ('PartType5', 'BH_CumlNumSeeds'), ('PartType5', 'BH_Density'), ('PartType5', 'BH_FormationTime'), ('PartType5', 'BH_Mass'), ('PartType5', 'BH_Mdot'), ('PartType5', 'BH_MostMassiveProgenitorID'), ('PartType5', 'BH_Pressure'), ('PartType5', 'BH_SoundSpeed'), ('PartType5', 'BH_SurroundingGasVel'), ('PartType5', 'BH_TimeLastMerger'), ('PartType5', 'Coordinates'), ('PartType5', 'GroupNumber'), ('PartType5', 'HostHalo_TVir_Mass'), ('PartType5', 'Mass'), ('PartType5', 'ParticleIDs'), ('PartType5', 'SmoothingLength'), ('PartType5', 'SubGroupNumber'), ('PartType5', 'Velocity'), ('all', 'Coordinates'), ('all', 'GroupNumber'), ('all', 'Mass'), ('all', 'ParticleIDs'), ('all', 'SubGroupNumber'), ('all', 'Velocity'), ('nbody', 'Coordinates'), ('nbody', 'GroupNumber'), ('nbody', 'Mass'), ('nbody', 'ParticleIDs'), ('nbody', 'SubGroupNumber'), ('nbody', 'Velocity')]\n",
      "GENERATING VOXEL GRIDS\n",
      "EXPORTING STARS\n",
      "exported stars\n"
     ]
    }
   ],
   "source": [
    "gridlist = preprocess.extractFeatures(sim_path,resolution_list,field_list,star_percent)"
   ]
  },
  {
   "cell_type": "code",
   "execution_count": 18,
   "metadata": {},
   "outputs": [
    {
     "name": "stderr",
     "output_type": "stream",
     "text": [
      "yt : [INFO     ] 2021-03-15 20:45:47,847 Parameters: current_time              = 4.361428036047735e+17 s\n",
      "yt : [INFO     ] 2021-03-15 20:45:47,848 Parameters: domain_dimensions         = [1 1 1]\n",
      "yt : [INFO     ] 2021-03-15 20:45:47,848 Parameters: domain_left_edge          = [0. 0. 0.]\n",
      "yt : [INFO     ] 2021-03-15 20:45:47,849 Parameters: domain_right_edge         = [16.9425 16.9425 16.9425]\n",
      "yt : [INFO     ] 2021-03-15 20:45:47,849 Parameters: cosmological_simulation   = 1\n",
      "yt : [INFO     ] 2021-03-15 20:45:47,849 Parameters: current_redshift          = 2.220446049250313e-16\n",
      "yt : [INFO     ] 2021-03-15 20:45:47,850 Parameters: omega_lambda              = 0.693\n",
      "yt : [INFO     ] 2021-03-15 20:45:47,850 Parameters: omega_matter              = 0.307\n",
      "yt : [INFO     ] 2021-03-15 20:45:47,850 Parameters: omega_radiation           = 0.0\n",
      "yt : [INFO     ] 2021-03-15 20:45:47,850 Parameters: hubble_constant           = 0.6777\n"
     ]
    }
   ],
   "source": [
    "import yt\n",
    "import trident\n",
    "import eagleSqlTools as sql\n",
    "import numpy as np\n",
    "import yt.units as units\n",
    "from yt.visualization.volume_rendering.api import PointSource\n",
    "from yt.units import kpc\n",
    "ds = yt.load(sim_path)"
   ]
  },
  {
   "cell_type": "code",
   "execution_count": 19,
   "metadata": {},
   "outputs": [
    {
     "name": "stderr",
     "output_type": "stream",
     "text": [
      "yt : [INFO     ] 2021-03-15 20:45:49,160 Allocating for 1.063e+08 particles\n",
      "Loading particle index: 100%|███████████████████████████████████████████████████████▋| 207/208 [00:02<00:00, 97.08it/s]\n"
     ]
    }
   ],
   "source": [
    "ad = ds.all_data()"
   ]
  },
  {
   "cell_type": "code",
   "execution_count": 7,
   "metadata": {},
   "outputs": [],
   "source": [
    "percent = 10.0\n",
    "index = np.random.randint(0,len(ad['PartType4', 'Coordinates']),size=int(len(ad['PartType4', 'Coordinates'])*(percent/100)))\n",
    "star_particles = {}\n",
    "#     np.random.default_rng(4)\n",
    "for i in range(0,int(len(index)-1)):\n",
    "    j = index[i]\n",
    "    star_particles[i] = (\n",
    "                            round(float(ad['PartType4', 'Coordinates'][j][0].in_units('Mpc')),4), #x\n",
    "                            round(float(ad['PartType4', 'Coordinates'][j][1].in_units('Mpc')),4),   #y\n",
    "                            round(float(ad['PartType4', 'Coordinates'][j][2].in_units('Mpc')),4),   #z\n",
    "                            float(ad['PartType4', 'SubGroupNumber'][j]), # group ID\n",
    "                            round(float(np.log10(ad['PartType4', 'Mass'][j].in_units('Msun'))),2) # stellar mass\n",
    "                        )"
   ]
  },
  {
   "cell_type": "code",
   "execution_count": 20,
   "metadata": {},
   "outputs": [
    {
     "data": {
      "text/plain": [
       "unyt_array([25.0000034, 25.0000034, 25.0000034], 'Mpc')"
      ]
     },
     "execution_count": 20,
     "metadata": {},
     "output_type": "execute_result"
    }
   ],
   "source": [
    "ad.right_edge.in_units('Mpc')"
   ]
  },
  {
   "cell_type": "code",
   "execution_count": 148,
   "metadata": {},
   "outputs": [
    {
     "name": "stdout",
     "output_type": "stream",
     "text": [
      "51176685929.0\n"
     ]
    },
    {
     "data": {
      "text/plain": [
       "unyt_array([5.11758014e+10, 5.11775935e+10, 5.11765510e+10,\n",
       "            5.11757314e+10, 5.11761259e+10, 5.11768056e+10,\n",
       "            5.11774570e+10, 5.11762818e+10, 5.11773708e+10,\n",
       "            5.11760628e+10, 5.11770669e+10, 5.11772535e+10], '(dimensionless)')"
      ]
     },
     "execution_count": 148,
     "metadata": {},
     "output_type": "execute_result"
    }
   ],
   "source": [
    "# from yt.data_objects.particle_filters import add_particle_filter\n",
    "\n",
    "i = ad['PartType4','ParticleIDs'][1]\n",
    "print(float(i))\n",
    "\n",
    "cr = ad.cut_region(field_cuts=[\"obj['PartType0','ParticleIDs'] > \"+str(float(i)-1000000.0)+\"\", \"obj['PartType0','ParticleIDs'] < \"+str(float(i)+1000000.0)+\"\"])\n",
    "cr['PartType0',\"ParticleIDs\"]\n",
    "# cr[\"PartType0\",\"ParticleIDs\"]\n",
    "# for j in range(len(ad['PartType0','ParticleIDs'])):\n",
    "#     if int(ad['PartType0','ParticleIDs'][j]) == i:\n",
    "#         print(ad['PartType0','StarFormationRate'][j])\n",
    "# i = int(ad['PartType0','ParticleIDs'][0])\n",
    "# print(i)\n",
    "\n",
    "# def star_filter(pfilter,data):\n",
    "#     ID = data[\"PartType0\",\"ParticleIDs\"]\n",
    "#     print(ID)\n",
    "#     filter = np.logical_and(ID > i-1, ID < i+1)\n",
    "#     return filter\n",
    "\n",
    "\n",
    "# add_particle_filter(\"star_filter\", function=star_filter, filtered_type=\"PartType0\",requires=[\"ParticleIDs\"])\n",
    "# ds = yt.load(sim_path)\n",
    "# ds.add_particle_filter(\"star_filter\")\n",
    "# adf = ds.all_data()"
   ]
  },
  {
   "cell_type": "code",
   "execution_count": 89,
   "metadata": {},
   "outputs": [
    {
     "name": "stdout",
     "output_type": "stream",
     "text": [
      "[1.50197628e+10 1.50180644e+10 1.50159583e+10 ... 2.92787040e+12\n",
      " 7.30873323e+12 4.24098627e+12] dimensionless\n"
     ]
    },
    {
     "data": {
      "text/plain": [
       "unyt_array([], dtype=float64, units='(dimensionless)')"
      ]
     },
     "execution_count": 89,
     "metadata": {},
     "output_type": "execute_result"
    }
   ],
   "source": [
    "adf[\"star_filter\",\"ParticleIDs\"]"
   ]
  },
  {
   "cell_type": "code",
   "execution_count": 4,
   "metadata": {
    "scrolled": true
   },
   "outputs": [
    {
     "name": "stdout",
     "output_type": "stream",
     "text": [
      "[[array([[[102044.11  , 136889.88  , 130384.65  , ...,  80142.91  ,\n",
      "         153477.83  ,  66364.46  ],\n",
      "        [117455.31  , 181867.12  , 228386.77  , ...,  14271.509 ,\n",
      "          27277.64  ,  37674.195 ],\n",
      "        [219057.55  , 271344.3   , 243355.98  , ...,   1683.0931,\n",
      "           3113.365 ,  38945.777 ],\n",
      "        ...,\n",
      "        [ 94510.71  ,  78915.13  , 127781.08  , ..., 109742.09  ,\n",
      "         118552.11  , 127172.73  ],\n",
      "        [102274.08  , 101426.79  , 145781.28  , ..., 140455.14  ,\n",
      "         146543.05  , 101862.586 ],\n",
      "        [120240.67  , 129175.25  , 129705.125 , ..., 110382.086 ,\n",
      "         160012.05  ,  79814.15  ]],\n",
      "\n",
      "       [[126204.73  , 116579.62  , 135871.02  , ..., 134693.48  ,\n",
      "          88872.71  ,  78934.63  ],\n",
      "        [148201.28  , 156180.22  , 180155.17  , ...,  47271.63  ,\n",
      "          31446.275 ,  76478.99  ],\n",
      "        [299987.16  , 307114.97  , 353907.88  , ...,   2917.946 ,\n",
      "           9833.91  ,  57029.312 ],\n",
      "        ...,\n",
      "        [ 96441.984 ,  75366.22  , 104543.664 , ...,  46849.09  ,\n",
      "          65206.887 ,  87627.36  ],\n",
      "        [108759.01  ,  88416.54  , 127692.63  , ...,  95232.23  ,\n",
      "         117326.914 ,  96711.91  ],\n",
      "        [127818.53  ,  96817.53  , 116042.36  , ..., 102636.86  ,\n",
      "         126893.13  ,  86820.086 ]],\n",
      "\n",
      "       [[163040.    ,  93555.3   , 150827.34  , ..., 185487.67  ,\n",
      "         149358.12  , 117181.055 ],\n",
      "        [150045.11  , 121317.79  , 143891.81  , ...,  68260.45  ,\n",
      "         104525.01  , 156245.05  ],\n",
      "        [191884.66  , 226156.05  , 169679.14  , ...,  11105.628 ,\n",
      "          52274.22  , 109427.375 ],\n",
      "        ...,\n",
      "        [ 83508.055 ,  63119.016 , 162933.66  , ...,  40645.793 ,\n",
      "          45199.25  ,  57358.633 ],\n",
      "        [109046.695 ,  65733.5   ,  82151.086 , ...,  88350.88  ,\n",
      "          84700.734 ,  81231.29  ],\n",
      "        [119297.18  ,  82307.95  ,  93544.9   , ..., 114196.96  ,\n",
      "         107013.54  ,  88881.49  ]],\n",
      "\n",
      "       ...,\n",
      "\n",
      "       [[170578.92  ,  60142.9   ,  13377.9375, ...,   1722.2545,\n",
      "           7083.0396,  86016.12  ],\n",
      "        [ 35033.67  ,  11064.766 ,   3892.7373, ...,   1190.1608,\n",
      "           3302.6282,  21342.557 ],\n",
      "        [110622.8   ,  28220.896 ,  16602.123 , ...,   1801.8456,\n",
      "          26496.764 , 191870.73  ],\n",
      "        ...,\n",
      "        [203719.05  , 338285.16  , 147618.25  , ..., 179040.05  ,\n",
      "         118295.625 ,  57823.934 ],\n",
      "        [184659.7   , 202725.72  ,  65062.273 , ...,  75547.37  ,\n",
      "          41363.1   ,  35463.79  ],\n",
      "        [145259.7   ,  64399.957 ,  31536.31  , ...,  10301.257 ,\n",
      "           8255.863 ,  66452.12  ]],\n",
      "\n",
      "       [[251359.97  ,  99391.2   ,  56938.38  , ...,   7272.89  ,\n",
      "          17022.797 , 115399.94  ],\n",
      "        [ 53947.63  ,  27674.5   ,  27465.014 , ...,   1710.2189,\n",
      "           3129.9382,  22375.074 ],\n",
      "        [ 23112.553 ,  25592.975 ,  82169.34  , ...,   1391.2988,\n",
      "           3514.1365,  23197.98  ],\n",
      "        ...,\n",
      "        [111613.734 , 170230.95  , 173573.05  , ..., 167064.22  ,\n",
      "         112531.19  ,  87508.25  ],\n",
      "        [113113.61  , 137546.86  , 146971.25  , ..., 132166.73  ,\n",
      "          60402.703 ,  51177.316 ],\n",
      "        [239842.31  , 115859.52  ,  98578.57  , ...,  32719.658 ,\n",
      "          23180.78  , 115515.336 ]],\n",
      "\n",
      "       [[126886.016 , 104474.98  ,  98055.6   , ...,  52798.246 ,\n",
      "         111656.67  ,  62799.082 ],\n",
      "        [ 77937.51  ,  81966.11  ,  87500.93  , ...,   6471.2935,\n",
      "          18254.936 ,  20028.969 ],\n",
      "        [ 75099.984 , 100110.086 , 153547.34  , ...,   1452.4049,\n",
      "           2224.6006,  19712.371 ],\n",
      "        ...,\n",
      "        [124627.414 , 158733.44  , 144741.52  , ..., 151581.2   ,\n",
      "         152914.69  , 116035.984 ],\n",
      "        [126393.08  , 137458.11  , 149311.22  , ..., 131760.38  ,\n",
      "          97196.8   ,  84055.82  ],\n",
      "        [141887.44  , 132230.55  , 135063.77  , ...,  79695.76  ,\n",
      "          95164.17  ,  93832.14  ]]], dtype=float32), array([[[0.0000000e+00, 0.0000000e+00, 0.0000000e+00, ...,\n",
      "         0.0000000e+00, 0.0000000e+00, 0.0000000e+00],\n",
      "        [0.0000000e+00, 0.0000000e+00, 0.0000000e+00, ...,\n",
      "         0.0000000e+00, 0.0000000e+00, 0.0000000e+00],\n",
      "        [5.6864206e-07, 7.5904137e-07, 5.8752141e-09, ...,\n",
      "         0.0000000e+00, 0.0000000e+00, 6.8724998e-11],\n",
      "        ...,\n",
      "        [1.1013911e-06, 2.0162988e-05, 5.2428306e-05, ...,\n",
      "         2.3186409e-04, 1.2006277e-05, 0.0000000e+00],\n",
      "        [2.8568633e-07, 5.9085532e-06, 1.2693022e-07, ...,\n",
      "         0.0000000e+00, 0.0000000e+00, 0.0000000e+00],\n",
      "        [0.0000000e+00, 0.0000000e+00, 0.0000000e+00, ...,\n",
      "         0.0000000e+00, 0.0000000e+00, 0.0000000e+00]],\n",
      "\n",
      "       [[0.0000000e+00, 7.9650470e-12, 4.2523464e-08, ...,\n",
      "         0.0000000e+00, 0.0000000e+00, 0.0000000e+00],\n",
      "        [0.0000000e+00, 0.0000000e+00, 0.0000000e+00, ...,\n",
      "         0.0000000e+00, 0.0000000e+00, 0.0000000e+00],\n",
      "        [6.1672387e-07, 6.1840922e-07, 7.9269320e-09, ...,\n",
      "         0.0000000e+00, 0.0000000e+00, 1.1451345e-10],\n",
      "        ...,\n",
      "        [1.0901374e-05, 7.6255565e-05, 1.0078788e-05, ...,\n",
      "         2.3859390e-04, 4.9950508e-05, 1.9021729e-05],\n",
      "        [4.7412568e-10, 1.0776645e-05, 3.8622780e-05, ...,\n",
      "         3.1132481e-06, 5.3823284e-09, 0.0000000e+00],\n",
      "        [0.0000000e+00, 7.0958290e-06, 4.2286547e-06, ...,\n",
      "         8.5609756e-08, 0.0000000e+00, 0.0000000e+00]],\n",
      "\n",
      "       [[2.8971495e-05, 5.8363653e-06, 2.4944288e-07, ...,\n",
      "         0.0000000e+00, 0.0000000e+00, 0.0000000e+00],\n",
      "        [5.0252606e-08, 1.5207238e-13, 3.3121818e-11, ...,\n",
      "         0.0000000e+00, 0.0000000e+00, 0.0000000e+00],\n",
      "        [1.1879790e-09, 3.4026588e-09, 0.0000000e+00, ...,\n",
      "         0.0000000e+00, 0.0000000e+00, 0.0000000e+00],\n",
      "        ...,\n",
      "        [8.9045926e-07, 4.1374402e-05, 2.3650120e-05, ...,\n",
      "         8.5363950e-04, 3.0595128e-04, 4.7944872e-05],\n",
      "        [0.0000000e+00, 8.8416182e-06, 1.5507236e-05, ...,\n",
      "         1.2832190e-05, 7.4899008e-06, 1.0335116e-10],\n",
      "        [1.4948984e-10, 2.6582525e-06, 1.1213824e-06, ...,\n",
      "         1.9218268e-07, 0.0000000e+00, 0.0000000e+00]],\n",
      "\n",
      "       ...,\n",
      "\n",
      "       [[0.0000000e+00, 0.0000000e+00, 0.0000000e+00, ...,\n",
      "         0.0000000e+00, 0.0000000e+00, 0.0000000e+00],\n",
      "        [6.9200851e-10, 0.0000000e+00, 0.0000000e+00, ...,\n",
      "         0.0000000e+00, 0.0000000e+00, 9.2894847e-09],\n",
      "        [5.6259063e-07, 1.3175941e-09, 0.0000000e+00, ...,\n",
      "         0.0000000e+00, 1.1305060e-07, 1.0944275e-06],\n",
      "        ...,\n",
      "        [0.0000000e+00, 0.0000000e+00, 1.3032729e-06, ...,\n",
      "         0.0000000e+00, 0.0000000e+00, 0.0000000e+00],\n",
      "        [0.0000000e+00, 0.0000000e+00, 0.0000000e+00, ...,\n",
      "         0.0000000e+00, 0.0000000e+00, 0.0000000e+00],\n",
      "        [0.0000000e+00, 0.0000000e+00, 0.0000000e+00, ...,\n",
      "         0.0000000e+00, 0.0000000e+00, 0.0000000e+00]],\n",
      "\n",
      "       [[0.0000000e+00, 0.0000000e+00, 0.0000000e+00, ...,\n",
      "         0.0000000e+00, 0.0000000e+00, 0.0000000e+00],\n",
      "        [0.0000000e+00, 0.0000000e+00, 0.0000000e+00, ...,\n",
      "         0.0000000e+00, 0.0000000e+00, 0.0000000e+00],\n",
      "        [2.6907998e-08, 0.0000000e+00, 0.0000000e+00, ...,\n",
      "         0.0000000e+00, 6.0080890e-10, 8.0053894e-08],\n",
      "        ...,\n",
      "        [0.0000000e+00, 1.1529718e-06, 4.4272805e-05, ...,\n",
      "         3.1641004e-08, 3.4119287e-14, 0.0000000e+00],\n",
      "        [0.0000000e+00, 0.0000000e+00, 5.0827175e-06, ...,\n",
      "         0.0000000e+00, 0.0000000e+00, 0.0000000e+00],\n",
      "        [0.0000000e+00, 0.0000000e+00, 0.0000000e+00, ...,\n",
      "         0.0000000e+00, 0.0000000e+00, 0.0000000e+00]],\n",
      "\n",
      "       [[0.0000000e+00, 0.0000000e+00, 0.0000000e+00, ...,\n",
      "         0.0000000e+00, 0.0000000e+00, 0.0000000e+00],\n",
      "        [0.0000000e+00, 0.0000000e+00, 0.0000000e+00, ...,\n",
      "         0.0000000e+00, 0.0000000e+00, 0.0000000e+00],\n",
      "        [4.7648191e-10, 2.2429467e-09, 0.0000000e+00, ...,\n",
      "         0.0000000e+00, 0.0000000e+00, 0.0000000e+00],\n",
      "        ...,\n",
      "        [1.7329329e-07, 6.0447842e-06, 3.7096634e-05, ...,\n",
      "         4.2557085e-07, 2.2041365e-10, 0.0000000e+00],\n",
      "        [2.4498189e-07, 5.2249634e-06, 3.0866686e-06, ...,\n",
      "         0.0000000e+00, 0.0000000e+00, 0.0000000e+00],\n",
      "        [0.0000000e+00, 0.0000000e+00, 0.0000000e+00, ...,\n",
      "         0.0000000e+00, 0.0000000e+00, 0.0000000e+00]]], dtype=float32), array([[[4.9850676e-32, 4.6651656e-32, 5.2619788e-32, ...,\n",
      "         4.0983625e-32, 3.8932570e-32, 5.3604788e-32],\n",
      "        [3.8234500e-32, 3.6548779e-32, 3.8183245e-32, ...,\n",
      "         3.8497131e-32, 3.7554300e-32, 3.9724480e-32],\n",
      "        [3.1236788e-32, 3.4153794e-32, 3.7982365e-32, ...,\n",
      "         5.6404580e-32, 4.6752240e-32, 3.5879943e-32],\n",
      "        ...,\n",
      "        [8.9010601e-32, 1.1745960e-31, 9.8280250e-32, ...,\n",
      "         7.9125299e-32, 7.2149428e-32, 7.4301587e-32],\n",
      "        [7.2348750e-32, 7.5329234e-32, 6.7277644e-32, ...,\n",
      "         5.3814989e-32, 5.3291078e-32, 7.3913615e-32],\n",
      "        [5.4028859e-32, 5.6197781e-32, 5.9236487e-32, ...,\n",
      "         5.2765849e-32, 4.8117598e-32, 7.0082403e-32]],\n",
      "\n",
      "       [[6.2712994e-32, 6.6656407e-32, 7.3032001e-32, ...,\n",
      "         5.4509166e-32, 6.9071995e-32, 8.6828578e-32],\n",
      "        [5.5109814e-32, 5.6646015e-32, 6.6988872e-32, ...,\n",
      "         4.4791145e-32, 5.1724232e-32, 6.2545598e-32],\n",
      "        [4.2548455e-32, 4.8958890e-32, 5.4465943e-32, ...,\n",
      "         5.7935556e-32, 4.8328023e-32, 4.8938201e-32],\n",
      "        ...,\n",
      "        [9.0112991e-32, 1.3948344e-31, 1.6636133e-31, ...,\n",
      "         1.1964812e-31, 9.5063427e-32, 8.1581312e-32],\n",
      "        [7.3660420e-32, 1.0372316e-31, 1.0625610e-31, ...,\n",
      "         6.8526025e-32, 6.4552701e-32, 6.9830101e-32],\n",
      "        [6.5363522e-32, 8.2028306e-32, 9.2557438e-32, ...,\n",
      "         6.3715455e-32, 6.7090782e-32, 8.4740641e-32]],\n",
      "\n",
      "       [[8.0098508e-32, 1.1777388e-31, 1.3032412e-31, ...,\n",
      "         7.3160059e-32, 8.8515753e-32, 9.4461445e-32],\n",
      "        [7.0093988e-32, 9.5930824e-32, 1.3478569e-31, ...,\n",
      "         7.1902444e-32, 7.4157601e-32, 7.9731131e-32],\n",
      "        [6.0837845e-32, 6.5856172e-32, 2.2167505e-31, ...,\n",
      "         6.7855470e-32, 6.5197366e-32, 7.4719299e-32],\n",
      "        ...,\n",
      "        [1.0437636e-31, 1.7380360e-31, 2.4207362e-31, ...,\n",
      "         1.2549592e-31, 1.1139389e-31, 9.6557768e-32],\n",
      "        [8.2090713e-32, 1.5299306e-31, 2.9481380e-31, ...,\n",
      "         8.1867157e-32, 8.0394598e-32, 8.0167069e-32],\n",
      "        [7.7885111e-32, 1.3155516e-31, 1.8275357e-31, ...,\n",
      "         7.8827223e-32, 8.8846678e-32, 8.5169720e-32]],\n",
      "\n",
      "       ...,\n",
      "\n",
      "       [[1.7509331e-32, 1.7373238e-32, 2.7542079e-32, ...,\n",
      "         2.3849462e-32, 2.2571681e-32, 1.9856711e-32],\n",
      "        [1.7076226e-32, 1.4241871e-32, 1.7124960e-32, ...,\n",
      "         3.7321966e-32, 3.3168924e-32, 2.2330932e-32],\n",
      "        [2.1243524e-32, 2.0745187e-32, 2.3175427e-32, ...,\n",
      "         5.3085578e-32, 4.5722828e-32, 2.6542084e-32],\n",
      "        ...,\n",
      "        [3.8726347e-32, 4.4641105e-32, 7.2811936e-32, ...,\n",
      "         2.6020126e-32, 2.9866981e-32, 3.6360424e-32],\n",
      "        [2.6704205e-32, 3.6611712e-32, 7.9159447e-32, ...,\n",
      "         2.3997467e-32, 2.3608824e-32, 2.3976558e-32],\n",
      "        [2.0459582e-32, 2.9738261e-32, 4.8872947e-32, ...,\n",
      "         2.0896513e-32, 2.0461805e-32, 1.9512867e-32]],\n",
      "\n",
      "       [[2.1724984e-32, 2.7095450e-32, 3.4278094e-32, ...,\n",
      "         2.5954016e-32, 2.5796259e-32, 2.3568025e-32],\n",
      "        [2.0407325e-32, 1.9713666e-32, 2.2990186e-32, ...,\n",
      "         3.3915907e-32, 2.9864651e-32, 2.4408297e-32],\n",
      "        [2.2270046e-32, 2.0302261e-32, 2.3854016e-32, ...,\n",
      "         5.4107940e-32, 4.1795328e-32, 2.9010795e-32],\n",
      "        ...,\n",
      "        [6.8480857e-32, 5.6544717e-32, 5.7766073e-32, ...,\n",
      "         3.9325449e-32, 4.5849455e-32, 6.8986425e-32],\n",
      "        [4.1724307e-32, 4.4072727e-32, 5.8220031e-32, ...,\n",
      "         3.6147974e-32, 4.0233716e-32, 4.3515705e-32],\n",
      "        [2.9318669e-32, 3.7752397e-32, 5.0252483e-32, ...,\n",
      "         2.7199532e-32, 2.7408737e-32, 2.7508687e-32]],\n",
      "\n",
      "       [[3.2620932e-32, 3.8696666e-32, 4.4794472e-32, ...,\n",
      "         3.1675112e-32, 3.0989851e-32, 3.2184988e-32],\n",
      "        [2.7292584e-32, 2.8758945e-32, 3.2141827e-32, ...,\n",
      "         3.5158963e-32, 3.3088265e-32, 2.8932889e-32],\n",
      "        [2.5283044e-32, 2.6084325e-32, 2.9484898e-32, ...,\n",
      "         5.4421292e-32, 4.3229322e-32, 3.0419228e-32],\n",
      "        ...,\n",
      "        [8.0727598e-32, 6.8593199e-32, 6.1530611e-32, ...,\n",
      "         5.3876245e-32, 5.9783562e-32, 8.1730318e-32],\n",
      "        [5.5504269e-32, 5.4132467e-32, 5.5888062e-32, ...,\n",
      "         4.7400675e-32, 5.7693439e-32, 6.9597277e-32],\n",
      "        [3.9994608e-32, 4.5320817e-32, 5.1979302e-32, ...,\n",
      "         4.2615699e-32, 4.1788683e-32, 4.0725572e-32]]], dtype=float32), array([[[ 5295.492   ,  7620.502   ,  7441.7397  , ...,  6915.4155  ,\n",
      "         17842.85    ,  4041.81    ],\n",
      "        [ 8146.8867  , 13925.621   , 20550.363   , ...,   934.1154  ,\n",
      "          2375.5383  ,  1989.0596  ],\n",
      "        [19867.043   , 23353.693   , 17003.158   , ...,    69.65307 ,\n",
      "           147.84798 ,  2535.008   ],\n",
      "        ...,\n",
      "        [ 3294.3484  ,  2242.721   ,  5336.099   , ...,  5219.203   ,\n",
      "          5224.9795  ,  5221.7285  ],\n",
      "        [ 4017.4644  ,  3882.3804  ,  6744.0854  , ...,  7509.094   ,\n",
      "          7761.3877  ,  4264.0576  ],\n",
      "        [ 5850.333   ,  6105.0864  ,  6049.298   , ...,  5943.156   ,\n",
      "         11986.84    ,  3635.9768  ]],\n",
      "\n",
      "       [[ 5603.1904  ,  5061.127   ,  6587.8975  , ...,  9049.407   ,\n",
      "          4613.908   ,  2728.1326  ],\n",
      "        [ 8334.902   ,  8299.1045  , 11791.267   , ...,  3315.698   ,\n",
      "          1370.8549  ,  3279.8616  ],\n",
      "        [25104.555   , 21469.092   , 21073.957   , ...,   115.921196,\n",
      "           397.91504 ,  2882.2903  ],\n",
      "        ...,\n",
      "        [ 3377.2483  ,  1917.1411  ,  2674.1016  , ...,  1451.6818  ,\n",
      "          2230.4912  ,  3282.2751  ],\n",
      "        [ 4460.2603  ,  2789.2764  ,  5135.313   , ...,  3981.4397  ,\n",
      "          5172.96    ,  3972.7517  ],\n",
      "        [ 5820.0835  ,  3517.4995  ,  4301.925   , ...,  4303.247   ,\n",
      "          5804.043   ,  3102.9348  ]],\n",
      "\n",
      "       [[ 6841.7266  ,  2675.8318  ,  5749.217   , ..., 11845.48    ,\n",
      "          8048.6704  ,  4001.1272  ],\n",
      "        [ 6049.456   ,  3960.9827  ,  4719.3228  , ...,  3150.7114  ,\n",
      "          4737.101   ,  6101.6064  ],\n",
      "        [ 9757.343   , 11121.486   ,  7564.562   , ...,   379.15967 ,\n",
      "          2013.429   ,  4023.189   ],\n",
      "        ...,\n",
      "        [ 2774.0278  ,  1327.8029  ,  5082.1157  , ...,  1141.6327  ,\n",
      "          1327.0193  ,  1895.8512  ],\n",
      "        [ 4525.0703  ,  1667.2839  ,  2153.2173  , ...,  3274.452   ,\n",
      "          3107.6868  ,  2942.9165  ],\n",
      "        [ 4709.3516  ,  2299.9265  ,  2654.7231  , ...,  4582.11    ,\n",
      "          3712.9404  ,  2978.605   ]],\n",
      "\n",
      "       ...,\n",
      "\n",
      "       [[28960.436   ,  9305.042   ,   759.1084  , ...,   105.70794 ,\n",
      "           533.102   , 12902.018   ],\n",
      "        [ 4959.2476  ,  1127.7971  ,   240.1989  , ...,    65.75051 ,\n",
      "           181.29767 ,  2330.532   ],\n",
      "        [16319.356   ,  1840.3364  ,   960.8799  , ...,    72.795   ,\n",
      "          3413.2976  , 30347.863   ],\n",
      "        ...,\n",
      "        [28702.676   , 45318.934   ,  8764.289   , ..., 17029.709   ,\n",
      "         10204.952   ,  4358.21    ],\n",
      "        [26926.564   , 27664.896   ,  3637.3677  , ...,  5894.772   ,\n",
      "          3010.5012  ,  3414.1753  ],\n",
      "        [23345.947   ,  7347.337   ,  1651.1704  , ...,   674.9106  ,\n",
      "           544.60046 ,  9789.161   ]],\n",
      "\n",
      "       [[43080.652   , 12622.766   ,  3015.0095  , ...,   418.437   ,\n",
      "          1435.2264  , 18492.      ],\n",
      "        [ 7463.386   ,  2317.0635  ,  1755.5343  , ...,    91.56837 ,\n",
      "           165.57892 ,  2777.6716  ],\n",
      "        [ 1777.2875  ,  1816.4951  ,  8018.9165  , ...,    61.013103,\n",
      "           153.96347 ,  2640.5527  ],\n",
      "        ...,\n",
      "        [ 5681.687   ,  9204.105   ,  8302.814   , ..., 11316.848   ,\n",
      "          6253.6577  ,  3433.301   ],\n",
      "        [ 8483.994   ,  8335.439   ,  7122.9863  , ...,  8691.936   ,\n",
      "          3022.7131  ,  2903.9053  ],\n",
      "        [35784.16    , 10411.088   ,  4817.802   , ...,  1920.6321  ,\n",
      "          1399.4883  , 16259.386   ]],\n",
      "\n",
      "       [[12354.346   ,  6440.002   ,  4976.0195  , ...,  5681.3345  ,\n",
      "         13698.842   ,  6474.982   ],\n",
      "        [ 5864.1875  ,  5643.059   ,  6264.142   , ...,   580.55914 ,\n",
      "          1886.7438  ,  1269.925   ],\n",
      "        [ 5845.3584  ,  7624.7603  , 13320.8125  , ...,    63.606464,\n",
      "           105.359184,  1315.2565  ],\n",
      "        ...,\n",
      "        [ 5024.257   ,  7376.773   ,  7010.619   , ...,  7797.344   ,\n",
      "          7360.197   ,  4542.3066  ],\n",
      "        [ 6592.6553  ,  6677.1494  ,  7101.6284  , ...,  7382.4507  ,\n",
      "          4414.1855  ,  3556.2493  ],\n",
      "        [10739.054   ,  7195.709   ,  6564.347   , ...,  4607.438   ,\n",
      "          7615.8926  ,  7068.448   ]]], dtype=float32), array([[[0.00000000e+00, 0.00000000e+00, 0.00000000e+00, ...,\n",
      "         0.00000000e+00, 0.00000000e+00, 0.00000000e+00],\n",
      "        [0.00000000e+00, 0.00000000e+00, 0.00000000e+00, ...,\n",
      "         0.00000000e+00, 0.00000000e+00, 0.00000000e+00],\n",
      "        [5.21463880e-06, 6.96066445e-06, 5.38776881e-08, ...,\n",
      "         0.00000000e+00, 0.00000000e+00, 6.30231312e-10],\n",
      "        ...,\n",
      "        [6.15691761e-06, 1.43605910e-04, 1.58810188e-04, ...,\n",
      "         1.59325567e-03, 7.47579688e-05, 0.00000000e+00],\n",
      "        [5.63707863e-06, 1.15514318e-04, 2.18585069e-06, ...,\n",
      "         0.00000000e+00, 0.00000000e+00, 0.00000000e+00],\n",
      "        [0.00000000e+00, 0.00000000e+00, 0.00000000e+00, ...,\n",
      "         0.00000000e+00, 0.00000000e+00, 0.00000000e+00]],\n",
      "\n",
      "       [[0.00000000e+00, 1.02990533e-10, 5.64545701e-07, ...,\n",
      "         0.00000000e+00, 0.00000000e+00, 0.00000000e+00],\n",
      "        [0.00000000e+00, 0.00000000e+00, 0.00000000e+00, ...,\n",
      "         0.00000000e+00, 0.00000000e+00, 0.00000000e+00],\n",
      "        [5.65556502e-06, 5.67102006e-06, 7.26926359e-08, ...,\n",
      "         0.00000000e+00, 0.00000000e+00, 1.05012676e-09],\n",
      "        ...,\n",
      "        [1.06004431e-04, 7.17836840e-04, 4.02294609e-05, ...,\n",
      "         1.56703044e-03, 3.48173111e-04, 1.47780360e-04],\n",
      "        [8.97820929e-09, 1.09258384e-04, 2.17961438e-04, ...,\n",
      "         3.84758096e-05, 1.14948087e-08, 0.00000000e+00],\n",
      "        [0.00000000e+00, 1.35128168e-04, 8.17150649e-05, ...,\n",
      "         1.69230782e-06, 0.00000000e+00, 0.00000000e+00]],\n",
      "\n",
      "       [[5.05215430e-04, 9.01666644e-05, 2.60021034e-06, ...,\n",
      "         0.00000000e+00, 0.00000000e+00, 0.00000000e+00],\n",
      "        [8.77489299e-07, 1.91367451e-12, 4.39692976e-10, ...,\n",
      "         0.00000000e+00, 0.00000000e+00, 0.00000000e+00],\n",
      "        [1.08941673e-08, 3.12035233e-08, 0.00000000e+00, ...,\n",
      "         0.00000000e+00, 0.00000000e+00, 0.00000000e+00],\n",
      "        ...,\n",
      "        [1.44855130e-05, 6.82220270e-04, 3.37888254e-04, ...,\n",
      "         5.34240808e-03, 2.26472248e-03, 5.54523780e-04],\n",
      "        [0.00000000e+00, 1.29907261e-04, 1.04122315e-04, ...,\n",
      "         8.66348782e-05, 3.35370278e-05, 2.00362490e-10],\n",
      "        [2.61032707e-09, 3.32188429e-05, 1.54131940e-05, ...,\n",
      "         3.79900939e-06, 0.00000000e+00, 0.00000000e+00]],\n",
      "\n",
      "       ...,\n",
      "\n",
      "       [[0.00000000e+00, 0.00000000e+00, 0.00000000e+00, ...,\n",
      "         0.00000000e+00, 0.00000000e+00, 0.00000000e+00],\n",
      "        [3.17406013e-09, 0.00000000e+00, 0.00000000e+00, ...,\n",
      "         0.00000000e+00, 0.00000000e+00, 4.26084092e-08],\n",
      "        [2.58045475e-06, 6.04345596e-09, 0.00000000e+00, ...,\n",
      "         0.00000000e+00, 5.18533227e-07, 5.01985005e-06],\n",
      "        ...,\n",
      "        [0.00000000e+00, 0.00000000e+00, 2.57905940e-05, ...,\n",
      "         0.00000000e+00, 0.00000000e+00, 0.00000000e+00],\n",
      "        [0.00000000e+00, 0.00000000e+00, 0.00000000e+00, ...,\n",
      "         0.00000000e+00, 0.00000000e+00, 0.00000000e+00],\n",
      "        [0.00000000e+00, 0.00000000e+00, 0.00000000e+00, ...,\n",
      "         0.00000000e+00, 0.00000000e+00, 0.00000000e+00]],\n",
      "\n",
      "       [[0.00000000e+00, 0.00000000e+00, 0.00000000e+00, ...,\n",
      "         0.00000000e+00, 0.00000000e+00, 0.00000000e+00],\n",
      "        [0.00000000e+00, 0.00000000e+00, 0.00000000e+00, ...,\n",
      "         0.00000000e+00, 0.00000000e+00, 0.00000000e+00],\n",
      "        [1.23419881e-07, 0.00000000e+00, 0.00000000e+00, ...,\n",
      "         0.00000000e+00, 2.75575163e-09, 3.67186061e-07],\n",
      "        ...,\n",
      "        [0.00000000e+00, 2.41676844e-05, 9.28011606e-04, ...,\n",
      "         7.63031593e-08, 4.59609801e-14, 0.00000000e+00],\n",
      "        [0.00000000e+00, 0.00000000e+00, 1.06539912e-04, ...,\n",
      "         0.00000000e+00, 0.00000000e+00, 0.00000000e+00],\n",
      "        [0.00000000e+00, 0.00000000e+00, 0.00000000e+00, ...,\n",
      "         0.00000000e+00, 0.00000000e+00, 0.00000000e+00]],\n",
      "\n",
      "       [[0.00000000e+00, 0.00000000e+00, 0.00000000e+00, ...,\n",
      "         0.00000000e+00, 0.00000000e+00, 0.00000000e+00],\n",
      "        [0.00000000e+00, 0.00000000e+00, 0.00000000e+00, ...,\n",
      "         0.00000000e+00, 0.00000000e+00, 0.00000000e+00],\n",
      "        [4.36949898e-09, 2.05685744e-08, 0.00000000e+00, ...,\n",
      "         0.00000000e+00, 0.00000000e+00, 0.00000000e+00],\n",
      "        ...,\n",
      "        [3.41949635e-06, 1.05322441e-04, 7.00470060e-04, ...,\n",
      "         2.55114605e-06, 3.02717545e-10, 0.00000000e+00],\n",
      "        [4.83408576e-06, 1.03101185e-04, 6.46374174e-05, ...,\n",
      "         0.00000000e+00, 0.00000000e+00, 0.00000000e+00],\n",
      "        [0.00000000e+00, 0.00000000e+00, 0.00000000e+00, ...,\n",
      "         0.00000000e+00, 0.00000000e+00, 0.00000000e+00]]], dtype=float32), array([[[0.00000000e+00, 0.00000000e+00, 0.00000000e+00, ...,\n",
      "         0.00000000e+00, 0.00000000e+00, 0.00000000e+00],\n",
      "        [0.00000000e+00, 0.00000000e+00, 0.00000000e+00, ...,\n",
      "         0.00000000e+00, 0.00000000e+00, 0.00000000e+00],\n",
      "        [3.12879092e-06, 4.17640877e-06, 3.23266889e-08, ...,\n",
      "         0.00000000e+00, 0.00000000e+00, 3.78139714e-10],\n",
      "        ...,\n",
      "        [3.42075896e-06, 7.58259994e-05, 3.46208799e-05, ...,\n",
      "         7.52018124e-04, 3.20588842e-05, 0.00000000e+00],\n",
      "        [3.74645970e-06, 7.66666417e-05, 1.42703277e-06, ...,\n",
      "         0.00000000e+00, 0.00000000e+00, 0.00000000e+00],\n",
      "        [0.00000000e+00, 0.00000000e+00, 0.00000000e+00, ...,\n",
      "         0.00000000e+00, 0.00000000e+00, 0.00000000e+00]],\n",
      "\n",
      "       [[0.00000000e+00, 4.72696222e-11, 2.59771639e-07, ...,\n",
      "         0.00000000e+00, 0.00000000e+00, 0.00000000e+00],\n",
      "        [0.00000000e+00, 0.00000000e+00, 0.00000000e+00, ...,\n",
      "         0.00000000e+00, 0.00000000e+00, 0.00000000e+00],\n",
      "        [3.39334724e-06, 3.40262045e-06, 4.36156853e-08, ...,\n",
      "         0.00000000e+00, 0.00000000e+00, 6.30077601e-10],\n",
      "        ...,\n",
      "        [5.99321684e-05, 4.00776480e-04, 1.51939921e-05, ...,\n",
      "         7.65595294e-04, 1.57766117e-04, 7.01930621e-05],\n",
      "        [5.45229106e-09, 6.45218897e-05, 1.04626102e-04, ...,\n",
      "         2.29415582e-05, 1.26743827e-09, 0.00000000e+00],\n",
      "        [0.00000000e+00, 9.55973519e-05, 5.78435829e-05, ...,\n",
      "         1.13676072e-06, 0.00000000e+00, 0.00000000e+00]],\n",
      "\n",
      "       [[3.35100747e-04, 5.92288488e-05, 1.16527042e-06, ...,\n",
      "         0.00000000e+00, 0.00000000e+00, 0.00000000e+00],\n",
      "        [5.82130440e-07, 8.25936216e-13, 2.02303091e-10, ...,\n",
      "         0.00000000e+00, 0.00000000e+00, 0.00000000e+00],\n",
      "        [6.53651577e-09, 1.87221598e-08, 0.00000000e+00, ...,\n",
      "         0.00000000e+00, 0.00000000e+00, 0.00000000e+00],\n",
      "        ...,\n",
      "        [9.06040077e-06, 4.39570460e-04, 2.19723501e-04, ...,\n",
      "         2.56820442e-03, 1.09692011e-03, 3.23233166e-04],\n",
      "        [0.00000000e+00, 8.13421721e-05, 5.09587335e-05, ...,\n",
      "         4.21764198e-05, 1.19577762e-05, 2.10104382e-11],\n",
      "        [1.73170300e-09, 2.25867389e-05, 1.04523215e-05, ...,\n",
      "         2.55187888e-06, 0.00000000e+00, 0.00000000e+00]],\n",
      "\n",
      "       ...,\n",
      "\n",
      "       [[0.00000000e+00, 0.00000000e+00, 0.00000000e+00, ...,\n",
      "         0.00000000e+00, 0.00000000e+00, 0.00000000e+00],\n",
      "        [7.96206268e-10, 0.00000000e+00, 0.00000000e+00, ...,\n",
      "         0.00000000e+00, 0.00000000e+00, 1.06882299e-08],\n",
      "        [6.47301590e-07, 1.51598822e-09, 0.00000000e+00, ...,\n",
      "         0.00000000e+00, 1.30072976e-07, 1.25921872e-06],\n",
      "        ...,\n",
      "        [0.00000000e+00, 0.00000000e+00, 1.77837919e-05, ...,\n",
      "         0.00000000e+00, 0.00000000e+00, 0.00000000e+00],\n",
      "        [0.00000000e+00, 0.00000000e+00, 0.00000000e+00, ...,\n",
      "         0.00000000e+00, 0.00000000e+00, 0.00000000e+00],\n",
      "        [0.00000000e+00, 0.00000000e+00, 0.00000000e+00, ...,\n",
      "         0.00000000e+00, 0.00000000e+00, 0.00000000e+00]],\n",
      "\n",
      "       [[0.00000000e+00, 0.00000000e+00, 0.00000000e+00, ...,\n",
      "         0.00000000e+00, 0.00000000e+00, 0.00000000e+00],\n",
      "        [0.00000000e+00, 0.00000000e+00, 0.00000000e+00, ...,\n",
      "         0.00000000e+00, 0.00000000e+00, 0.00000000e+00],\n",
      "        [3.09596153e-08, 0.00000000e+00, 0.00000000e+00, ...,\n",
      "         0.00000000e+00, 6.91274482e-10, 9.21078538e-08],\n",
      "        ...,\n",
      "        [0.00000000e+00, 1.62774522e-05, 6.25035609e-04, ...,\n",
      "         1.99103685e-08, 4.12581067e-15, 0.00000000e+00],\n",
      "        [0.00000000e+00, 0.00000000e+00, 7.17569055e-05, ...,\n",
      "         0.00000000e+00, 0.00000000e+00, 0.00000000e+00],\n",
      "        [0.00000000e+00, 0.00000000e+00, 0.00000000e+00, ...,\n",
      "         0.00000000e+00, 0.00000000e+00, 0.00000000e+00]],\n",
      "\n",
      "       [[0.00000000e+00, 0.00000000e+00, 0.00000000e+00, ...,\n",
      "         0.00000000e+00, 0.00000000e+00, 0.00000000e+00],\n",
      "        [0.00000000e+00, 0.00000000e+00, 0.00000000e+00, ...,\n",
      "         0.00000000e+00, 0.00000000e+00, 0.00000000e+00],\n",
      "        [2.62170574e-09, 1.23411743e-08, 0.00000000e+00, ...,\n",
      "         0.00000000e+00, 0.00000000e+00, 0.00000000e+00],\n",
      "        ...,\n",
      "        [2.27280134e-06, 6.89149310e-05, 4.65854333e-04, ...,\n",
      "         1.36621418e-06, 2.53249435e-11, 0.00000000e+00],\n",
      "        [3.21302218e-06, 6.85272025e-05, 4.35257316e-05, ...,\n",
      "         0.00000000e+00, 0.00000000e+00, 0.00000000e+00],\n",
      "        [0.00000000e+00, 0.00000000e+00, 0.00000000e+00, ...,\n",
      "         0.00000000e+00, 0.00000000e+00, 0.00000000e+00]]], dtype=float32), array([[[2.23977885e-08, 2.09604760e-08, 2.36419453e-08, ...,\n",
      "         1.84138429e-08, 1.74923098e-08, 2.40845015e-08],\n",
      "        [1.71786674e-08, 1.64212786e-08, 1.71556405e-08, ...,\n",
      "         1.72966690e-08, 1.68730558e-08, 1.78481141e-08],\n",
      "        [1.40344261e-08, 1.53449680e-08, 1.70653838e-08, ...,\n",
      "         2.53424428e-08, 2.10056683e-08, 1.61207723e-08],\n",
      "        ...,\n",
      "        [3.99915798e-08, 5.27536308e-08, 4.41130581e-08, ...,\n",
      "         3.52545690e-08, 3.23999316e-08, 3.33835253e-08],\n",
      "        [3.25056888e-08, 3.38363435e-08, 3.02275041e-08, ...,\n",
      "         2.41789451e-08, 2.39435529e-08, 3.32092078e-08],\n",
      "        [2.42750371e-08, 2.52495269e-08, 2.66148099e-08, ...,\n",
      "         2.37075692e-08, 2.16191207e-08, 3.14878541e-08]],\n",
      "\n",
      "       [[2.81767960e-08, 2.99485627e-08, 3.28130270e-08, ...,\n",
      "         2.44908360e-08, 3.10338812e-08, 3.90118693e-08],\n",
      "        [2.47607073e-08, 2.54509196e-08, 3.00979401e-08, ...,\n",
      "         2.01245527e-08, 2.32395738e-08, 2.81015851e-08],\n",
      "        [1.91167153e-08, 2.19969074e-08, 2.44714151e-08, ...,\n",
      "         2.60303032e-08, 2.17136638e-08, 2.19878160e-08],\n",
      "        ...,\n",
      "        [4.04695015e-08, 6.25451690e-08, 7.47354676e-08, ...,\n",
      "         5.34526521e-08, 4.26312674e-08, 3.66220441e-08],\n",
      "        [3.30954464e-08, 4.65850185e-08, 4.76928150e-08, ...,\n",
      "         3.07827008e-08, 2.90033704e-08, 3.13744941e-08],\n",
      "        [2.93676727e-08, 3.68377542e-08, 4.15753476e-08, ...,\n",
      "         2.86270758e-08, 3.01437275e-08, 3.80737646e-08]],\n",
      "\n",
      "       [[3.59111993e-08, 5.29016937e-08, 5.85539652e-08, ...,\n",
      "         3.28706378e-08, 3.97699154e-08, 4.24412967e-08],\n",
      "        [3.14929274e-08, 4.31014868e-08, 6.05588824e-08, ...,\n",
      "         3.23055964e-08, 3.33188304e-08, 3.58230032e-08],\n",
      "        [2.73342966e-08, 2.95890175e-08, 9.95980685e-08, ...,\n",
      "         3.04872998e-08, 2.92930196e-08, 3.35712009e-08],\n",
      "        ...,\n",
      "        [4.68931063e-08, 7.79568268e-08, 1.08706182e-07, ...,\n",
      "         5.53488455e-08, 4.96326216e-08, 4.32949783e-08],\n",
      "        [3.68831579e-08, 6.87137174e-08, 1.32436142e-07, ...,\n",
      "         3.67657407e-08, 3.61146206e-08, 3.60188714e-08],\n",
      "        [3.49935938e-08, 5.91029661e-08, 8.21086985e-08, ...,\n",
      "         3.54165977e-08, 3.99185964e-08, 3.82665490e-08]],\n",
      "\n",
      "       ...,\n",
      "\n",
      "       [[7.86690002e-09, 7.80575338e-09, 1.23745894e-08, ...,\n",
      "         1.07155058e-08, 1.01414015e-08, 8.92157193e-09],\n",
      "        [7.67230635e-09, 6.39883835e-09, 7.69420350e-09, ...,\n",
      "         1.67686700e-08, 1.49027173e-08, 1.00332311e-08],\n",
      "        [9.54451007e-09, 9.32076194e-09, 1.04126627e-08, ...,\n",
      "         2.38512214e-08, 2.05431245e-08, 1.19249943e-08],\n",
      "        ...,\n",
      "        [1.73996551e-08, 2.00571399e-08, 3.27115899e-08, ...,\n",
      "         1.16907799e-08, 1.34191618e-08, 1.63366494e-08],\n",
      "        [1.19981349e-08, 1.64495546e-08, 3.55661491e-08, ...,\n",
      "         1.07820046e-08, 1.06073879e-08, 1.07726095e-08],\n",
      "        [9.19244059e-09, 1.33613298e-08, 2.19584972e-08, ...,\n",
      "         9.38875289e-09, 9.19343979e-09, 8.76708395e-09]],\n",
      "\n",
      "       [[9.76098313e-09, 1.21739205e-08, 1.54010653e-08, ...,\n",
      "         1.16610765e-08, 1.15901972e-08, 1.05890567e-08],\n",
      "        [9.16896248e-09, 8.85730245e-09, 1.03294351e-08, ...,\n",
      "         1.52383350e-08, 1.34181155e-08, 1.09665885e-08],\n",
      "        [1.00058708e-08, 9.12175668e-09, 1.07175522e-08, ...,\n",
      "         2.43105678e-08, 1.87785396e-08, 1.30344580e-08],\n",
      "        ...,\n",
      "        [3.07682839e-08, 2.54041623e-08, 2.59064574e-08, ...,\n",
      "         1.76688211e-08, 2.06000497e-08, 3.09954338e-08],\n",
      "        [1.87466309e-08, 1.98017691e-08, 2.61526445e-08, ...,\n",
      "         1.62411968e-08, 1.80769124e-08, 1.95515018e-08],\n",
      "        [1.31728068e-08, 1.69620620e-08, 2.25783179e-08, ...,\n",
      "         1.22206840e-08, 1.23146791e-08, 1.23595862e-08]],\n",
      "\n",
      "       [[1.46565053e-08, 1.73863182e-08, 2.01260484e-08, ...,\n",
      "         1.42315510e-08, 1.39236658e-08, 1.44606371e-08],\n",
      "        [1.22624924e-08, 1.29213245e-08, 1.44412455e-08, ...,\n",
      "         1.57968358e-08, 1.48664778e-08, 1.29994771e-08],\n",
      "        [1.13596101e-08, 1.17196235e-08, 1.32474938e-08, ...,\n",
      "         2.44513547e-08, 1.94228296e-08, 1.36672860e-08],\n",
      "        ...,\n",
      "        [3.62704533e-08, 3.08104298e-08, 2.76066725e-08, ...,\n",
      "         2.42061695e-08, 2.68606097e-08, 3.67212358e-08],\n",
      "        [2.49375631e-08, 2.43136942e-08, 2.51070222e-08, ...,\n",
      "         2.12970086e-08, 2.59215227e-08, 3.12698880e-08],\n",
      "        [1.79694801e-08, 2.03625348e-08, 2.33541755e-08, ...,\n",
      "         1.91471319e-08, 1.87755536e-08, 1.82979019e-08]]], dtype=float32), array([[[1.76186549e-31, 8.80932746e-32, 8.80932746e-32, ...,\n",
      "         8.80932746e-32, 8.80932746e-32, 0.00000000e+00],\n",
      "        [8.80932746e-32, 0.00000000e+00, 8.80932746e-32, ...,\n",
      "         8.80932746e-32, 2.64279812e-31, 8.80932746e-32],\n",
      "        [0.00000000e+00, 0.00000000e+00, 8.80932746e-32, ...,\n",
      "         1.76186549e-31, 2.64279812e-31, 1.76186549e-31],\n",
      "        ...,\n",
      "        [0.00000000e+00, 0.00000000e+00, 2.64279812e-31, ...,\n",
      "         0.00000000e+00, 1.76186549e-31, 1.76186549e-31],\n",
      "        [1.76186549e-31, 8.80932746e-32, 0.00000000e+00, ...,\n",
      "         1.76186549e-31, 8.80932746e-32, 1.76186549e-31],\n",
      "        [0.00000000e+00, 1.76186549e-31, 8.80932746e-32, ...,\n",
      "         0.00000000e+00, 0.00000000e+00, 2.64279812e-31]],\n",
      "\n",
      "       [[8.80932746e-32, 8.80932746e-32, 3.52373099e-31, ...,\n",
      "         8.80932746e-32, 1.76186549e-31, 1.76186549e-31],\n",
      "        [0.00000000e+00, 0.00000000e+00, 0.00000000e+00, ...,\n",
      "         1.76186549e-31, 0.00000000e+00, 8.80932746e-32],\n",
      "        [8.80932746e-32, 0.00000000e+00, 0.00000000e+00, ...,\n",
      "         8.80932746e-32, 1.76186549e-31, 1.76186549e-31],\n",
      "        ...,\n",
      "        [8.80932746e-32, 0.00000000e+00, 3.52373099e-31, ...,\n",
      "         8.80932746e-32, 8.80932746e-32, 8.80932746e-32],\n",
      "        [8.80932746e-32, 0.00000000e+00, 4.40466338e-31, ...,\n",
      "         0.00000000e+00, 0.00000000e+00, 3.52373099e-31],\n",
      "        [8.80932746e-32, 8.80932746e-32, 6.16652911e-31, ...,\n",
      "         1.76186549e-31, 8.80932746e-32, 8.80932746e-32]],\n",
      "\n",
      "       [[1.76186549e-31, 8.80932746e-32, 6.16652911e-31, ...,\n",
      "         8.80932746e-32, 8.80932746e-32, 8.80932746e-32],\n",
      "        [0.00000000e+00, 0.00000000e+00, 8.80932676e-31, ...,\n",
      "         1.76186549e-31, 1.76186549e-31, 2.64279812e-31],\n",
      "        [1.76186549e-31, 1.76186549e-31, 3.52373099e-31, ...,\n",
      "         1.76186549e-31, 8.80932746e-32, 8.80932746e-32],\n",
      "        ...,\n",
      "        [8.80932746e-32, 0.00000000e+00, 2.20233174e-30, ...,\n",
      "         8.80932746e-32, 0.00000000e+00, 1.76186549e-31],\n",
      "        [0.00000000e+00, 8.80932746e-32, 1.32139906e-30, ...,\n",
      "         0.00000000e+00, 1.76186549e-31, 2.64279812e-31],\n",
      "        [0.00000000e+00, 0.00000000e+00, 1.05711925e-30, ...,\n",
      "         8.80932746e-32, 8.80932746e-32, 8.80932746e-32]],\n",
      "\n",
      "       ...,\n",
      "\n",
      "       [[0.00000000e+00, 0.00000000e+00, 0.00000000e+00, ...,\n",
      "         0.00000000e+00, 8.80932746e-32, 8.80932746e-32],\n",
      "        [8.80932746e-32, 8.80932746e-32, 8.80932746e-32, ...,\n",
      "         2.64279812e-31, 3.52373099e-31, 8.80932746e-32],\n",
      "        [0.00000000e+00, 0.00000000e+00, 0.00000000e+00, ...,\n",
      "         4.40466338e-31, 3.52373099e-31, 0.00000000e+00],\n",
      "        ...,\n",
      "        [1.76186549e-31, 0.00000000e+00, 1.76186549e-31, ...,\n",
      "         0.00000000e+00, 0.00000000e+00, 8.80932746e-32],\n",
      "        [1.76186549e-31, 8.80932746e-32, 8.80932746e-32, ...,\n",
      "         8.80932746e-32, 0.00000000e+00, 0.00000000e+00],\n",
      "        [8.80932746e-32, 8.80932746e-32, 8.80932746e-32, ...,\n",
      "         0.00000000e+00, 1.76186549e-31, 8.80932746e-32]],\n",
      "\n",
      "       [[8.80932746e-32, 8.80932746e-32, 0.00000000e+00, ...,\n",
      "         8.80932746e-32, 8.80932746e-32, 0.00000000e+00],\n",
      "        [8.80932746e-32, 0.00000000e+00, 0.00000000e+00, ...,\n",
      "         3.52373099e-31, 8.80932746e-32, 8.80932746e-32],\n",
      "        [8.80932746e-32, 2.64279812e-31, 0.00000000e+00, ...,\n",
      "         2.64279812e-31, 4.40466338e-31, 0.00000000e+00],\n",
      "        ...,\n",
      "        [8.80932746e-32, 1.76186549e-31, 0.00000000e+00, ...,\n",
      "         8.80932746e-32, 8.80932746e-32, 0.00000000e+00],\n",
      "        [0.00000000e+00, 8.80932746e-32, 0.00000000e+00, ...,\n",
      "         0.00000000e+00, 8.80932746e-32, 1.76186549e-31],\n",
      "        [8.80932746e-32, 0.00000000e+00, 0.00000000e+00, ...,\n",
      "         0.00000000e+00, 0.00000000e+00, 8.80932746e-32]],\n",
      "\n",
      "       [[0.00000000e+00, 0.00000000e+00, 0.00000000e+00, ...,\n",
      "         8.80932746e-32, 8.80932746e-32, 1.76186549e-31],\n",
      "        [0.00000000e+00, 8.80932746e-32, 8.80932746e-32, ...,\n",
      "         0.00000000e+00, 2.64279812e-31, 8.80932746e-32],\n",
      "        [8.80932746e-32, 0.00000000e+00, 0.00000000e+00, ...,\n",
      "         0.00000000e+00, 8.80932746e-32, 8.80932746e-32],\n",
      "        ...,\n",
      "        [1.76186549e-31, 1.76186549e-31, 0.00000000e+00, ...,\n",
      "         8.80932746e-32, 8.80932746e-32, 2.64279812e-31],\n",
      "        [8.80932746e-32, 0.00000000e+00, 1.76186549e-31, ...,\n",
      "         8.80932746e-32, 1.76186549e-31, 8.80932746e-32],\n",
      "        [8.80932746e-32, 8.80932746e-32, 8.80932746e-32, ...,\n",
      "         1.76186549e-31, 0.00000000e+00, 1.76186549e-31]]], dtype=float32)]]\n"
     ]
    }
   ],
   "source": [
    "print(gridlist)\n",
    "\n",
    "# field_list = [('PartType0','Temperature'),('PartType0','Carbon'),('PartType0','Density'),('PartType0','Entropy'),('PartType0','Metallicity'),('PartType0','Oxygen'),('PartType0', 'H_number_density'),('deposit', 'PartType1_density')]\n"
   ]
  },
  {
   "cell_type": "code",
   "execution_count": 25,
   "metadata": {},
   "outputs": [
    {
     "name": "stdout",
     "output_type": "stream",
     "text": [
      "533.34937 7664880.0\n"
     ]
    },
    {
     "data": {
      "image/png": "[encoded data removed]",
      "text/plain": [
       "<Figure size 432x288 with 1 Axes>"
      ]
     },
     "metadata": {
      "needs_background": "light"
     },
     "output_type": "display_data"
    }
   ],
   "source": [
    "temp = gridlist[0][0]\n",
    "print(np.min(temp),np.max(temp))\n",
    "logs = np.log10(np.array(temp)+1)\n",
    "np.linspace(1.75,7.5,255)\n",
    "tbins = np.linspace(2.0,7.5,200)\n",
    "logs.flatten()\n",
    "jk=plt.hist(logs.flatten(),bins=tbins)"
   ]
  },
  {
   "cell_type": "code",
   "execution_count": 45,
   "metadata": {},
   "outputs": [
    {
     "name": "stdout",
     "output_type": "stream",
     "text": [
      "0.0 0.007309413\n"
     ]
    },
    {
     "data": {
      "image/png": "[encoded data removed]",
      "text/plain": [
       "<Figure size 432x288 with 1 Axes>"
      ]
     },
     "metadata": {
      "needs_background": "light"
     },
     "output_type": "display_data"
    }
   ],
   "source": [
    "carbon = gridlist[0][1]\n",
    "print(np.min(carbon),np.max(carbon))\n",
    "logs = np.log10(np.array(carbon)+1)\n",
    "np.linspace(0,0.009,255)\n",
    "tbins = np.linspace(0.001,0.007,200)\n",
    "logs.flatten()\n",
    "jk=plt.hist(logs.flatten(),bins=tbins)"
   ]
  },
  {
   "cell_type": "code",
   "execution_count": 48,
   "metadata": {},
   "outputs": [
    {
     "name": "stdout",
     "output_type": "stream",
     "text": [
      "8.24946e-33 3.8751573e-24\n",
      "-32.083576 -23.41171\n"
     ]
    },
    {
     "data": {
      "image/png": "[encoded data removed]",
      "text/plain": [
       "<Figure size 432x288 with 1 Axes>"
      ]
     },
     "metadata": {
      "needs_background": "light"
     },
     "output_type": "display_data"
    }
   ],
   "source": [
    "density = gridlist[0][2]\n",
    "print( np.min(density), np.max(density))\n",
    "print( np.log10( np.min(density) ) , np.log10( np.max( density ) ) )\n",
    "logs = np.log10(np.array(density))\n",
    "np.linspace(-33,-22,255)\n",
    "tbins = np.linspace(-33.,-27.,255)\n",
    "logs.flatten()\n",
    "jk=plt.hist(logs.flatten(),bins=tbins)"
   ]
  },
  {
   "cell_type": "code",
   "execution_count": 51,
   "metadata": {},
   "outputs": [
    {
     "name": "stdout",
     "output_type": "stream",
     "text": [
      "17.942257 1256525.5\n",
      "1.253877 6.099171\n"
     ]
    },
    {
     "data": {
      "image/png": "[encoded data removed]",
      "text/plain": [
       "<Figure size 432x288 with 1 Axes>"
      ]
     },
     "metadata": {
      "needs_background": "light"
     },
     "output_type": "display_data"
    }
   ],
   "source": [
    "entropy = gridlist[0][3]\n",
    "print( np.min(entropy), np.max(entropy))\n",
    "print( np.log10( np.min(entropy) ) , np.log10( np.max( entropy ) ) )\n",
    "logs = np.log10(np.array(entropy))\n",
    "np.linspace(0.75,6.25,255)\n",
    "tbins = np.linspace(1.,6,255)\n",
    "logs.flatten()\n",
    "jk=plt.hist(logs.flatten(),bins=tbins)"
   ]
  },
  {
   "cell_type": "code",
   "execution_count": 53,
   "metadata": {},
   "outputs": [
    {
     "name": "stdout",
     "output_type": "stream",
     "text": [
      "0.0 0.04549272\n"
     ]
    },
    {
     "data": {
      "image/png": "[encoded data removed]",
      "text/plain": [
       "<Figure size 432x288 with 1 Axes>"
      ]
     },
     "metadata": {
      "needs_background": "light"
     },
     "output_type": "display_data"
    }
   ],
   "source": [
    "metallicity = gridlist[0][4]\n",
    "print( np.min(metallicity), np.max(metallicity))\n",
    "# print( np.log10( np.min(metallicity) ) , np.log10( np.max( metallicity ) ) )\n",
    "# logs = np.log10(np.array(metallicity))\n",
    "np.linspace(0.75,6.25,255)\n",
    "tbins = np.linspace(0.0001,0.05,255)\n",
    "logs.flatten()\n",
    "jk=plt.hist(metallicity.flatten(),bins=tbins)"
   ]
  },
  {
   "cell_type": "code",
   "execution_count": 55,
   "metadata": {},
   "outputs": [
    {
     "name": "stdout",
     "output_type": "stream",
     "text": [
      "0.0 0.018117385\n"
     ]
    },
    {
     "data": {
      "image/png": "[encoded data removed]",
      "text/plain": [
       "<Figure size 432x288 with 1 Axes>"
      ]
     },
     "metadata": {
      "needs_background": "light"
     },
     "output_type": "display_data"
    }
   ],
   "source": [
    "oxygen = gridlist[0][5]\n",
    "print( np.min(oxygen), np.max(oxygen))\n",
    "# print( np.log10( np.min(metallicity) ) , np.log10( np.max( metallicity ) ) )\n",
    "# logs = np.log10(np.array(metallicity))\n",
    "np.linspace(0.75,6.25,255)\n",
    "tbins = np.linspace(0.0,0.02,255)\n",
    "logs.flatten()\n",
    "jk=plt.hist(oxygen.flatten(),bins=tbins)"
   ]
  },
  {
   "cell_type": "code",
   "execution_count": 60,
   "metadata": {},
   "outputs": [
    {
     "name": "stdout",
     "output_type": "stream",
     "text": [
      "3.7064625e-09 1.7410989\n",
      "-8.431041 0.24082343\n"
     ]
    },
    {
     "data": {
      "image/png": "[encoded data removed]",
      "text/plain": [
       "<Figure size 432x288 with 1 Axes>"
      ]
     },
     "metadata": {
      "needs_background": "light"
     },
     "output_type": "display_data"
    }
   ],
   "source": [
    "H_number_density = gridlist[0][6]\n",
    "print( np.min(H_number_density), np.max(H_number_density))\n",
    "print( np.log10( np.min(H_number_density) ) , np.log10( np.max( H_number_density ) ) )\n",
    "logs = np.log10(np.array(H_number_density))\n",
    "np.linspace(0.75,6.25,255)\n",
    "tbins = np.linspace(-8.5,-3,255)\n",
    "logs.flatten()\n",
    "jk=plt.hist(logs.flatten(),bins=tbins)"
   ]
  },
  {
   "cell_type": "code",
   "execution_count": 20,
   "metadata": {},
   "outputs": [
    {
     "name": "stdout",
     "output_type": "stream",
     "text": [
      "0.0 6.3844367e-25\n"
     ]
    },
    {
     "data": {
      "image/png": "[encoded data removed]",
      "text/plain": [
       "<Figure size 432x288 with 1 Axes>"
      ]
     },
     "metadata": {
      "needs_background": "light"
     },
     "output_type": "display_data"
    }
   ],
   "source": [
    "PartType1_density = gridlist[2][7]\n",
    "print( np.min(PartType1_density), np.max(PartType1_density))\n",
    "# print( np.log10( np.min(PartType1_density) ) , np.log10( np.max( PartType1_density ) ) )\n",
    "# logs = np.log10(np.array(PartType1_density))\n",
    "np.linspace(0.75,6.25,255)\n",
    "tbins = np.linspace(1.2e-26,1.3e-26,500)\n",
    "# logs.flatten()\n",
    "jk=plt.hist(PartType1_density.flatten(),bins=tbins)"
   ]
  },
  {
   "cell_type": "code",
   "execution_count": 15,
   "metadata": {
    "scrolled": true
   },
   "outputs": [
    {
     "data": {
      "image/png": "[encoded data removed]",
      "text/plain": [
       "<Figure size 432x288 with 1 Axes>"
      ]
     },
     "metadata": {
      "needs_background": "light"
     },
     "output_type": "display_data"
    }
   ],
   "source": [
    "tbins = np.linspace(0.,2.1937904e-25,255)\n",
    "# logs.flatten()\n",
    "jk=plt.hist(PartType1_density.flatten(),bins=tbins)"
   ]
  },
  {
   "cell_type": "code",
   "execution_count": 28,
   "metadata": {},
   "outputs": [],
   "source": [
    "data = np.array([[64, 1.26664915e-26],\n",
    "                [128, 6.9301215e-26],\n",
    "                [256, 2.1937904e-25],\n",
    "                [512, 6.3844367e-25]])"
   ]
  },
  {
   "cell_type": "code",
   "execution_count": 33,
   "metadata": {},
   "outputs": [
    {
     "data": {
      "image/png": "[encoded data removed]",
      "text/plain": [
       "<Figure size 432x288 with 1 Axes>"
      ]
     },
     "metadata": {
      "needs_background": "light"
     },
     "output_type": "display_data"
    }
   ],
   "source": [
    "plt.plot(data[:,0], data[:,1], linestyle='-',marker='o',color='b')\n",
    "plt.show()"
   ]
  },
  {
   "cell_type": "code",
   "execution_count": null,
   "metadata": {},
   "outputs": [],
   "source": []
  }
 ],
 "metadata": {
  "kernelspec": {
   "display_name": "Python 3",
   "language": "python",
   "name": "python3"
  },
  "language_info": {
   "codemirror_mode": {
    "name": "ipython",
    "version": 3
   },
   "file_extension": ".py",
   "mimetype": "text/x-python",
   "name": "python",
   "nbconvert_exporter": "python",
   "pygments_lexer": "ipython3",
   "version": "3.7.2"
  }
 },
 "nbformat": 4,
 "nbformat_minor": 4
}
